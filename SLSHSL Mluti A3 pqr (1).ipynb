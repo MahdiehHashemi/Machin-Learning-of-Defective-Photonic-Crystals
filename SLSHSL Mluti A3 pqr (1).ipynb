{
 "cells": [
  {
   "cell_type": "code",
   "execution_count": 1,
   "metadata": {
    "executionInfo": {
     "elapsed": 783,
     "status": "ok",
     "timestamp": 1664375502591,
     "user": {
      "displayName": "Atieh Sohrabi",
      "userId": "02085666091885470785"
     },
     "user_tz": -210
    },
    "id": "xztj9TGtlPIO"
   },
   "outputs": [],
   "source": [
    "import matplotlib.pyplot as plt\n",
    "import pandas as pd\n",
    "import pylab as pl\n",
    "import numpy as np\n",
    "%matplotlib inline"
   ]
  },
  {
   "cell_type": "code",
   "execution_count": 3,
   "metadata": {
    "id": "oXjySvNa8yUN"
   },
   "outputs": [
    {
     "data": {
      "text/html": [
       "<div>\n",
       "<style scoped>\n",
       "    .dataframe tbody tr th:only-of-type {\n",
       "        vertical-align: middle;\n",
       "    }\n",
       "\n",
       "    .dataframe tbody tr th {\n",
       "        vertical-align: top;\n",
       "    }\n",
       "\n",
       "    .dataframe thead th {\n",
       "        text-align: right;\n",
       "    }\n",
       "</style>\n",
       "<table border=\"1\" class=\"dataframe\">\n",
       "  <thead>\n",
       "    <tr style=\"text-align: right;\">\n",
       "      <th></th>\n",
       "      <th>p</th>\n",
       "      <th>q</th>\n",
       "      <th>r</th>\n",
       "      <th>A1</th>\n",
       "      <th>L1</th>\n",
       "      <th>A2</th>\n",
       "      <th>L2</th>\n",
       "      <th>A3</th>\n",
       "      <th>L3</th>\n",
       "    </tr>\n",
       "  </thead>\n",
       "  <tbody>\n",
       "    <tr>\n",
       "      <th>0</th>\n",
       "      <td>3</td>\n",
       "      <td>2</td>\n",
       "      <td>2</td>\n",
       "      <td>0.697272</td>\n",
       "      <td>588</td>\n",
       "      <td>0.897795</td>\n",
       "      <td>622</td>\n",
       "      <td>0.673578</td>\n",
       "      <td>655</td>\n",
       "    </tr>\n",
       "    <tr>\n",
       "      <th>1</th>\n",
       "      <td>3</td>\n",
       "      <td>3</td>\n",
       "      <td>2</td>\n",
       "      <td>0.737086</td>\n",
       "      <td>592</td>\n",
       "      <td>0.917456</td>\n",
       "      <td>621</td>\n",
       "      <td>0.701330</td>\n",
       "      <td>650</td>\n",
       "    </tr>\n",
       "    <tr>\n",
       "      <th>2</th>\n",
       "      <td>3</td>\n",
       "      <td>4</td>\n",
       "      <td>2</td>\n",
       "      <td>0.731879</td>\n",
       "      <td>595</td>\n",
       "      <td>0.917330</td>\n",
       "      <td>621</td>\n",
       "      <td>0.696167</td>\n",
       "      <td>647</td>\n",
       "    </tr>\n",
       "    <tr>\n",
       "      <th>3</th>\n",
       "      <td>3</td>\n",
       "      <td>5</td>\n",
       "      <td>2</td>\n",
       "      <td>0.608153</td>\n",
       "      <td>596</td>\n",
       "      <td>0.905459</td>\n",
       "      <td>621</td>\n",
       "      <td>0.632662</td>\n",
       "      <td>645</td>\n",
       "    </tr>\n",
       "    <tr>\n",
       "      <th>4</th>\n",
       "      <td>3</td>\n",
       "      <td>6</td>\n",
       "      <td>2</td>\n",
       "      <td>0.492272</td>\n",
       "      <td>597</td>\n",
       "      <td>0.892537</td>\n",
       "      <td>621</td>\n",
       "      <td>0.527849</td>\n",
       "      <td>644</td>\n",
       "    </tr>\n",
       "    <tr>\n",
       "      <th>5</th>\n",
       "      <td>3</td>\n",
       "      <td>7</td>\n",
       "      <td>2</td>\n",
       "      <td>0.412174</td>\n",
       "      <td>598</td>\n",
       "      <td>0.882359</td>\n",
       "      <td>621</td>\n",
       "      <td>0.404073</td>\n",
       "      <td>643</td>\n",
       "    </tr>\n",
       "    <tr>\n",
       "      <th>6</th>\n",
       "      <td>3</td>\n",
       "      <td>8</td>\n",
       "      <td>2</td>\n",
       "      <td>0.273795</td>\n",
       "      <td>598</td>\n",
       "      <td>0.875351</td>\n",
       "      <td>621</td>\n",
       "      <td>0.301801</td>\n",
       "      <td>643</td>\n",
       "    </tr>\n",
       "    <tr>\n",
       "      <th>7</th>\n",
       "      <td>3</td>\n",
       "      <td>9</td>\n",
       "      <td>2</td>\n",
       "      <td>0.199852</td>\n",
       "      <td>599</td>\n",
       "      <td>0.870844</td>\n",
       "      <td>621</td>\n",
       "      <td>0.206111</td>\n",
       "      <td>643</td>\n",
       "    </tr>\n",
       "    <tr>\n",
       "      <th>8</th>\n",
       "      <td>3</td>\n",
       "      <td>2</td>\n",
       "      <td>3</td>\n",
       "      <td>0.739739</td>\n",
       "      <td>592</td>\n",
       "      <td>0.829748</td>\n",
       "      <td>621</td>\n",
       "      <td>0.684369</td>\n",
       "      <td>651</td>\n",
       "    </tr>\n",
       "    <tr>\n",
       "      <th>9</th>\n",
       "      <td>3</td>\n",
       "      <td>3</td>\n",
       "      <td>3</td>\n",
       "      <td>0.781619</td>\n",
       "      <td>596</td>\n",
       "      <td>0.895376</td>\n",
       "      <td>621</td>\n",
       "      <td>0.726220</td>\n",
       "      <td>645</td>\n",
       "    </tr>\n",
       "    <tr>\n",
       "      <th>10</th>\n",
       "      <td>3</td>\n",
       "      <td>4</td>\n",
       "      <td>3</td>\n",
       "      <td>0.806026</td>\n",
       "      <td>599</td>\n",
       "      <td>0.916419</td>\n",
       "      <td>621</td>\n",
       "      <td>0.765492</td>\n",
       "      <td>642</td>\n",
       "    </tr>\n",
       "  </tbody>\n",
       "</table>\n",
       "</div>"
      ],
      "text/plain": [
       "    p  q  r        A1   L1        A2   L2        A3   L3\n",
       "0   3  2  2  0.697272  588  0.897795  622  0.673578  655\n",
       "1   3  3  2  0.737086  592  0.917456  621  0.701330  650\n",
       "2   3  4  2  0.731879  595  0.917330  621  0.696167  647\n",
       "3   3  5  2  0.608153  596  0.905459  621  0.632662  645\n",
       "4   3  6  2  0.492272  597  0.892537  621  0.527849  644\n",
       "5   3  7  2  0.412174  598  0.882359  621  0.404073  643\n",
       "6   3  8  2  0.273795  598  0.875351  621  0.301801  643\n",
       "7   3  9  2  0.199852  599  0.870844  621  0.206111  643\n",
       "8   3  2  3  0.739739  592  0.829748  621  0.684369  651\n",
       "9   3  3  3  0.781619  596  0.895376  621  0.726220  645\n",
       "10  3  4  3  0.806026  599  0.916419  621  0.765492  642"
      ]
     },
     "execution_count": 3,
     "metadata": {},
     "output_type": "execute_result"
    }
   ],
   "source": [
    "df= pd.read_csv('dataSLSHSLpqr.csv')\n",
    "\n",
    "df.head(11)"
   ]
  },
  {
   "cell_type": "code",
   "execution_count": null,
   "metadata": {
    "id": "acqRFRvuu-Kr",
    "scrolled": true
   },
   "outputs": [],
   "source": [
    "plt.figure(figsize=(15,5))\n",
    "plt.subplot(1,3,1)\n",
    "plt.scatter(df.p, df.A3,  color='blue')\n",
    "plt.ylim(0,1)\n",
    "plt.xlim(0,11)\n",
    "plt.xlabel(\"p\")\n",
    "plt.ylabel(\"A3\")\n",
    "plt.subplot(1,3,2)\n",
    "plt.scatter(df.q, df.A3,  color='blue')\n",
    "plt.ylim(0,1)\n",
    "plt.xlim(0,11)\n",
    "plt.xlabel(\"q\")\n",
    "plt.ylabel(\"A3\")\n",
    "plt.subplot(1,3,3)\n",
    "plt.scatter(df.r, df.A3,  color='blue')\n",
    "plt.ylim(0,1)\n",
    "plt.xlim(0,11)\n",
    "plt.xlabel(\"r\")\n",
    "plt.ylabel(\"A3\")\n",
    "plt.show()"
   ]
  },
  {
   "cell_type": "code",
   "execution_count": 4,
   "metadata": {
    "id": "iaPLmPlZSKUD"
   },
   "outputs": [
    {
     "data": {
      "text/html": [
       "<div>\n",
       "<style scoped>\n",
       "    .dataframe tbody tr th:only-of-type {\n",
       "        vertical-align: middle;\n",
       "    }\n",
       "\n",
       "    .dataframe tbody tr th {\n",
       "        vertical-align: top;\n",
       "    }\n",
       "\n",
       "    .dataframe thead th {\n",
       "        text-align: right;\n",
       "    }\n",
       "</style>\n",
       "<table border=\"1\" class=\"dataframe\">\n",
       "  <thead>\n",
       "    <tr style=\"text-align: right;\">\n",
       "      <th></th>\n",
       "      <th>p</th>\n",
       "      <th>q</th>\n",
       "      <th>r</th>\n",
       "      <th>A3</th>\n",
       "    </tr>\n",
       "  </thead>\n",
       "  <tbody>\n",
       "    <tr>\n",
       "      <th>0</th>\n",
       "      <td>3</td>\n",
       "      <td>2</td>\n",
       "      <td>2</td>\n",
       "      <td>0.673578</td>\n",
       "    </tr>\n",
       "    <tr>\n",
       "      <th>1</th>\n",
       "      <td>3</td>\n",
       "      <td>3</td>\n",
       "      <td>2</td>\n",
       "      <td>0.701330</td>\n",
       "    </tr>\n",
       "    <tr>\n",
       "      <th>2</th>\n",
       "      <td>3</td>\n",
       "      <td>4</td>\n",
       "      <td>2</td>\n",
       "      <td>0.696167</td>\n",
       "    </tr>\n",
       "    <tr>\n",
       "      <th>3</th>\n",
       "      <td>3</td>\n",
       "      <td>5</td>\n",
       "      <td>2</td>\n",
       "      <td>0.632662</td>\n",
       "    </tr>\n",
       "    <tr>\n",
       "      <th>4</th>\n",
       "      <td>3</td>\n",
       "      <td>6</td>\n",
       "      <td>2</td>\n",
       "      <td>0.527849</td>\n",
       "    </tr>\n",
       "    <tr>\n",
       "      <th>5</th>\n",
       "      <td>3</td>\n",
       "      <td>7</td>\n",
       "      <td>2</td>\n",
       "      <td>0.404073</td>\n",
       "    </tr>\n",
       "    <tr>\n",
       "      <th>6</th>\n",
       "      <td>3</td>\n",
       "      <td>8</td>\n",
       "      <td>2</td>\n",
       "      <td>0.301801</td>\n",
       "    </tr>\n",
       "    <tr>\n",
       "      <th>7</th>\n",
       "      <td>3</td>\n",
       "      <td>9</td>\n",
       "      <td>2</td>\n",
       "      <td>0.206111</td>\n",
       "    </tr>\n",
       "    <tr>\n",
       "      <th>8</th>\n",
       "      <td>3</td>\n",
       "      <td>2</td>\n",
       "      <td>3</td>\n",
       "      <td>0.684369</td>\n",
       "    </tr>\n",
       "  </tbody>\n",
       "</table>\n",
       "</div>"
      ],
      "text/plain": [
       "   p  q  r        A3\n",
       "0  3  2  2  0.673578\n",
       "1  3  3  2  0.701330\n",
       "2  3  4  2  0.696167\n",
       "3  3  5  2  0.632662\n",
       "4  3  6  2  0.527849\n",
       "5  3  7  2  0.404073\n",
       "6  3  8  2  0.301801\n",
       "7  3  9  2  0.206111\n",
       "8  3  2  3  0.684369"
      ]
     },
     "execution_count": 4,
     "metadata": {},
     "output_type": "execute_result"
    }
   ],
   "source": [
    "cdf = df[['p','q','r','A3']]\n",
    "cdf.head(9)"
   ]
  },
  {
   "cell_type": "code",
   "execution_count": 5,
   "metadata": {
    "id": "XBkcevcoSKUI"
   },
   "outputs": [
    {
     "data": {
      "text/plain": [
       "448"
      ]
     },
     "execution_count": 5,
     "metadata": {},
     "output_type": "execute_result"
    }
   ],
   "source": [
    "msk = np.random.rand(len(df)) < 0.8\n",
    "train = cdf[msk]\n",
    "test = cdf[~msk]\n",
    "len(df)"
   ]
  },
  {
   "cell_type": "code",
   "execution_count": 6,
   "metadata": {
    "colab": {
     "background_save": true
    },
    "id": "Pwtfwu6GSKUL"
   },
   "outputs": [
    {
     "name": "stdout",
     "output_type": "stream",
     "text": [
      "Coefficients:  [[-0.09354377 -0.05784519  0.05913679]]\n",
      "intercepts:  [1.06031178]\n"
     ]
    }
   ],
   "source": [
    "from sklearn import linear_model\n",
    "regr = linear_model.LinearRegression()\n",
    "x = np.asanyarray(train[['p','q','r']])\n",
    "y = np.asanyarray(train[['A3']])\n",
    "from sklearn.model_selection import train_test_split\n",
    "x_train,x_test,y_train,y_test = train_test_split(x,y,test_size=0.2,random_state=3)\n",
    "regr.fit (x_train, y_train)\n",
    "# The coefficients\n",
    "print ('Coefficients: ', regr.coef_)\n",
    "print ('intercepts: ', regr.intercept_)"
   ]
  },
  {
   "cell_type": "code",
   "execution_count": null,
   "metadata": {
    "colab": {
     "background_save": true
    },
    "id": "OtFQ8ot5Ph0s"
   },
   "outputs": [
    {
     "data": {
      "text/plain": [
       "[<matplotlib.lines.Line2D at 0x7f9d967e8d50>]"
      ]
     },
     "execution_count": 11,
     "metadata": {},
     "output_type": "execute_result"
    },
    {
     "data": {
      "image/png": "[encoded data removed]",
      "text/plain": [
       "<Figure size 1080x360 with 3 Axes>"
      ]
     },
     "metadata": {},
     "output_type": "display_data"
    }
   ],
   "source": [
    "plt.figure(figsize=(15,5))\n",
    "plt.subplot(1,3,1)\n",
    "plt.scatter(train.p, train.A3,  color='blue')\n",
    "plt.xlabel(\"p\")\n",
    "plt.ylabel(\"A3\")\n",
    "XX = np.arange(0.0, 10.0, 0.1)\n",
    "yy = regr.intercept_[0]+ regr.coef_[0][0]*XX + regr.coef_[0][1]*XX + regr.coef_[0][2]*XX\n",
    "plt.plot(XX, yy, '-r' )\n",
    "plt.ylim(0,1)\n",
    "plt.xlim(0,11)\n",
    "\n",
    "plt.subplot(1,3,2)\n",
    "plt.scatter(train.q, train.A3,  color='green')\n",
    "plt.xlabel(\"q\")\n",
    "plt.ylabel(\"A3\")\n",
    "XX = np.arange(0.0, 10.0, 0.1)\n",
    "yy = regr.intercept_[0]+ regr.coef_[0][0]*XX + regr.coef_[0][1]*XX  + regr.coef_[0][2]*XX\n",
    "plt.ylim(0,1)\n",
    "plt.xlim(0,11)\n",
    "plt.plot(XX, yy, '-r' )\n",
    "\n",
    "plt.subplot(1,3,3)\n",
    "plt.scatter(train.r, train.A3,  color='green')\n",
    "plt.xlabel(\"r\")\n",
    "plt.ylabel(\"A3\")\n",
    "XX = np.arange(0.0, 10.0, 0.1)\n",
    "yy = regr.intercept_[0]+ regr.coef_[0][0]*XX + regr.coef_[0][1]*XX  + regr.coef_[0][2]*XX\n",
    "plt.ylim(0,1)\n",
    "plt.xlim(0,11)\n",
    "plt.plot(XX, yy, '-r' )\n"
   ]
  },
  {
   "cell_type": "code",
   "execution_count": 7,
   "metadata": {
    "colab": {
     "background_save": true
    },
    "id": "CvfNMj2MSKUN"
   },
   "outputs": [
    {
     "name": "stdout",
     "output_type": "stream",
     "text": [
      "Variance score: 0.86\n"
     ]
    }
   ],
   "source": [
    "y_hat= regr.predict(x_test)\n",
    "x = np.asanyarray(x_test)\n",
    "y = np.asanyarray(y_test)\n",
    "\n",
    "from sklearn.metrics import r2_score \n",
    "\n",
    "print('Variance score: %.2f' % r2_score(y, y_hat))"
   ]
  },
  {
   "cell_type": "code",
   "execution_count": 8,
   "metadata": {
    "colab": {
     "background_save": true
    },
    "id": "M_HCL530EtWu"
   },
   "outputs": [
    {
     "data": {
      "text/plain": [
       "<matplotlib.legend.Legend at 0x1bee0a4b370>"
      ]
     },
     "execution_count": 8,
     "metadata": {},
     "output_type": "execute_result"
    },
    {
     "data": {
      "image/png": "[encoded data removed]",
      "text/plain": [
       "<Figure size 1080x360 with 2 Axes>"
      ]
     },
     "metadata": {
      "needs_background": "light"
     },
     "output_type": "display_data"
    }
   ],
   "source": [
    "plt.figure(figsize=(15,5))\n",
    "plt.subplot(1,2,1)\n",
    "y_pred_train = regr.intercept_[0]+ regr.coef_[0][0]*x_train[:,0] + regr.coef_[0][1]*x_train[:,1] + regr.coef_[0][2]*x_train[:,2]\n",
    "plt.scatter(  y_train , y_pred_train, color='blue' , label='A3')\n",
    "plt.xlabel(\"Actual data\")\n",
    "plt.ylabel(\"Predicted data\")\n",
    "XX = np.arange(0.0, 10.0, 0.1)\n",
    "#yy = regr.intercept_[0]+ regr.coef_[0][0]*XX + regr.coef_[0][1]*XX\n",
    "yy = XX\n",
    "plt.plot(XX, yy, '-r' )\n",
    "plt.ylim(0,1)\n",
    "plt.xlim(0,1)\n",
    "plt.title('Training set : 80%')\n",
    "plt.legend()\n",
    "\n",
    "plt.subplot(1,2,2)\n",
    "plt.xlabel(\"Actual data\")\n",
    "\n",
    "yy = XX\n",
    "plt.plot(XX, yy, '-r' )\n",
    "y_pred_test = regr.intercept_[0]+ regr.coef_[0][0]*x_test[:,0] + regr.coef_[0][1]*x_test[:,1] + regr.coef_[0][2]*x_test[:,2]\n",
    "plt.ylim(0,1)\n",
    "plt.xlim(0,1)\n",
    "plt.scatter( y_test ,y_pred_test,  color='green', label='A3')\n",
    "plt.title('Testing set : 20%')\n",
    "plt.legend()"
   ]
  },
  {
   "cell_type": "code",
   "execution_count": 9,
   "metadata": {
    "colab": {
     "background_save": true
    },
    "id": "ugFLKjvdcmZ0"
   },
   "outputs": [
    {
     "data": {
      "text/plain": [
       "(290, 1)"
      ]
     },
     "execution_count": 9,
     "metadata": {},
     "output_type": "execute_result"
    }
   ],
   "source": [
    "y_train.shape"
   ]
  },
  {
   "cell_type": "code",
   "execution_count": 10,
   "metadata": {
    "colab": {
     "background_save": true
    },
    "id": "elJQKq_vstsi"
   },
   "outputs": [
    {
     "name": "stdout",
     "output_type": "stream",
     "text": [
      "[ 0.17090549  0.71732453  0.1878857   0.22487588  0.38852519  0.69130311\n",
      "  0.69001151  0.67303129  0.25089729  0.35153502  0.30874248  0.81086829\n",
      "  0.54120575  0.43519253  0.69388631  0.72700168  0.39949395  0.45733914\n",
      "  0.02661049  0.08316408  0.86871348  0.6138945   0.17670784  0.49195522\n",
      "  0.38981679  0.12745731  0.38723359  1.01881084  0.52636219  0.63474952\n",
      "  0.12144585  0.23842784  0.22358428  0.7504399   0.51797663  0.39239999\n",
      "  0.28401267  0.46121394  0.68033435  0.30724179  0.12015425  0.36529608\n",
      "  0.65431293  0.57690433  0.09671604  0.57819593  0.4672254   0.16832229\n",
      "  0.07607012  0.50292398  0.30486768  0.7491483   0.37497324  0.24831409\n",
      "  0.06961212  0.90570366  0.49303772  0.65818773  0.50163238  0.36658768\n",
      " -0.00908809  0.36637858  0.83172331  0.01822493  0.37734734  0.23971944\n",
      "  0.12874891  0.13262371  0.14488407  0.27283481  0.23584464  0.56464397\n",
      "  0.6087281   0.44637039  0.60034254  0.98440387  0.86613028  0.95967405\n",
      "  0.24960569  0.68871991  0.20014606  0.08445568  0.27025161 -0.10004865\n",
      "  0.48227806  0.38013963 -0.18391526  0.39841145  0.31712804  0.51518434\n",
      " -0.06564168  0.56076917  0.11886265  0.52765379  0.25669965  0.78613848\n",
      "  0.42422377  0.80699349  0.0487571   0.26315765  0.51668503  0.24702249\n",
      "  0.43281843  0.67173969  0.44766199  0.21369802  0.01564173 -0.12477847\n",
      "  0.36379538 -0.16047705  0.4723918   0.77646132  0.63862432  0.35540982\n",
      "  0.90441206  0.86742188  0.07219532  0.16444749  0.3280968   0.1917605\n",
      " -0.04220346  0.77258652  0.34314946  0.90053726  0.81215989  0.1904689\n",
      "  0.46013144  0.27412641  0.50809038  0.41583821  0.248105    0.29627303\n",
      "  0.96354885  0.40207715  0.06230906  0.4736834   0.84269207  0.08574728\n",
      "  0.74076274  0.55346611  0.6100197   0.34444106  0.41196341  0.59517614\n",
      "  0.63216632  0.92785027  0.8908601   0.50550718  0.69646951 -0.01037969\n",
      "  0.19885446  0.08703888  0.31971124  1.07923923  0.87000508  0.50938198\n",
      "  0.43411003  0.42551537  0.44507879  0.21498962  0.0526319   0.16315589\n",
      "  0.0474655   0.6115204  -0.12607007  0.35282662  0.39110839  0.83301491\n",
      "  0.45883984  0.43798483  0.92526707  0.33927466  0.57582182  0.32229444\n",
      "  0.16961389  0.7530231   0.07348692 -0.0903715   0.30595019  0.31841964\n",
      "  0.10918549  0.71861613  0.63345792  0.39970305  0.01693333  0.48077736\n",
      "  0.90182886  0.28142947  0.13133211  0.78355528  0.47948576  0.55109201\n",
      "  1.02010244  0.60292574  0.72829328  0.51776754  0.30745088  0.64592738\n",
      "  0.28530427  0.14617567  0.57432113  0.22745908  0.62378076  0.84656687\n",
      "  0.85645312  0.62248916  0.35799302  0.71603293  0.22229268  0.63087472\n",
      "  0.63604112  0.35411822  0.52894539  0.22100108  0.58808218  0.07477852\n",
      "  0.72571008  0.11047709  0.28659587  0.10789389  0.24939659 -0.10392345\n",
      "  0.42443287  0.53733095  0.40808861 -0.10134025  0.68162595 -0.0325263\n",
      "  0.78872168  0.33068     0.66657329  0.14359247  0.28272107  0.34164876\n",
      "  0.21240642  0.58937378  0.35024342 -0.04478666  0.56335237  0.41454661\n",
      "  0.59646774  0.31583644  0.36767018  0.72441848  0.59905094 -0.15918545\n",
      "  0.56593557  0.49324682  0.01305853  0.29239823  0.73817954  0.28013787\n",
      "  0.29368983  0.78226368  0.45863074  0.78743008  0.4698086   0.7478567\n",
      "  0.84398367  0.0513403   0.45024518  0.96225725  0.3332632   0.84140047\n",
      " -0.16176865  0.13520691  0.53991415  0.1902598   0.30853339  0.51905914\n",
      "  0.54378895 -0.04607826  0.55238361  0.07090372  0.15585283  0.1891773\n",
      "  0.96096565  0.42164057  0.27154321  0.77387812  0.38594199  0.50679878\n",
      "  0.17929104  0.3293884   0.10660229  0.26186605  0.94999689  0.20272926\n",
      "  0.56206077  0.07736172]\n"
     ]
    }
   ],
   "source": [
    "print(y_pred_train)"
   ]
  },
  {
   "cell_type": "code",
   "execution_count": 11,
   "metadata": {
    "colab": {
     "background_save": true
    },
    "id": "XUSpYbJPs_hN"
   },
   "outputs": [
    {
     "name": "stdout",
     "output_type": "stream",
     "text": [
      "[[0.24492062]\n",
      " [0.24913985]\n",
      " [0.44810888]\n",
      " [0.59346403]\n",
      " [0.82120956]\n",
      " [0.88589425]\n",
      " [0.8114964 ]\n",
      " [0.88633357]\n",
      " [0.03339924]\n",
      " [0.60229744]\n",
      " [0.02930856]\n",
      " [0.7436111 ]\n",
      " [0.34230493]\n",
      " [0.21035098]\n",
      " [0.79772675]\n",
      " [0.16188171]\n",
      " [0.62015163]\n",
      " [0.69538692]\n",
      " [0.77441987]\n",
      " [0.11183386]\n",
      " [0.86270903]\n",
      " [0.2858287 ]\n",
      " [0.09717729]\n",
      " [0.77126872]\n",
      " [0.11720569]\n",
      " [0.10507937]\n",
      " [0.02710332]\n",
      " [0.50582041]\n",
      " [0.78148222]\n",
      " [0.66222851]\n",
      " [0.90168653]\n",
      " [0.45433415]\n",
      " [0.45773024]\n",
      " [0.45685864]\n",
      " [0.17088979]\n",
      " [0.58628936]\n",
      " [0.81995955]\n",
      " [0.19920221]\n",
      " [0.50124455]\n",
      " [0.73723576]\n",
      " [0.79655842]\n",
      " [0.3566297 ]\n",
      " [0.88963855]\n",
      " [0.14481022]\n",
      " [0.34884125]\n",
      " [0.43646955]\n",
      " [0.51984537]\n",
      " [0.90141193]\n",
      " [0.28907652]\n",
      " [0.71464759]\n",
      " [0.0111526 ]\n",
      " [0.04505957]\n",
      " [0.74860719]\n",
      " [0.02282634]\n",
      " [0.03026008]\n",
      " [0.31410716]\n",
      " [0.04791394]\n",
      " [0.23544069]\n",
      " [0.84973648]\n",
      " [0.46727417]\n",
      " [0.12486867]\n",
      " [0.04935484]\n",
      " [0.49039703]\n",
      " [0.24325664]\n",
      " [0.57107935]\n",
      " [0.73559867]\n",
      " [0.93017224]\n",
      " [0.01177539]\n",
      " [0.84261781]\n",
      " [0.41809003]\n",
      " [0.25277455]\n",
      " [0.70888336]\n",
      " [0.70433777]]\n"
     ]
    }
   ],
   "source": [
    "print(y_test)"
   ]
  },
  {
   "cell_type": "code",
   "execution_count": 19,
   "metadata": {
    "colab": {
     "background_save": true
    },
    "id": "gxui02BwtXBh"
   },
   "outputs": [
    {
     "name": "stdout",
     "output_type": "stream",
     "text": [
      "[ 0.36508698  0.24573089  0.41067181  0.55475771  0.66077093  0.67904275\n",
      "  0.61990596  0.71474133 -0.04349506  0.50421558 -0.06822488  0.66915649\n",
      "  0.37755643  0.34294036  0.68291755  0.22875068  0.57561273  1.07794763\n",
      "  0.58549898  0.14100927  0.73087648  0.34056626  0.17799944  0.70506417\n",
      "  0.18058264  0.11176869 -0.06693328  0.468517    1.02139404  0.6113113\n",
      "  0.80957669  0.48206896  0.45754824  0.44378719  0.23455304  0.48594376\n",
      "  0.69259471  0.26057445  0.48336056  0.59775934  0.90312046  0.31454484\n",
      "  0.98569547  0.23713624  0.42293217  0.49453842  0.55367521  0.7517315\n",
      "  0.40078555  0.60163414 -0.21832224  0.02790209  0.57948753 -0.10263185\n",
      "  0.00317227  0.36400448  0.06101746  0.26444925  1.04354066  0.37368164\n",
      "  0.16703069  0.01435013  0.51647594  0.30615928  0.53023699  0.66786489\n",
      "  0.77516972 -0.21961384  0.76290936  0.42680697  0.1865941   0.6126029\n",
      "  0.64721897]\n"
     ]
    }
   ],
   "source": [
    "print(y_pred_test)"
   ]
  },
  {
   "cell_type": "code",
   "execution_count": null,
   "metadata": {},
   "outputs": [],
   "source": []
  }
 ],
 "metadata": {
  "colab": {
   "authorship_tag": "ABX9TyNcJHzV5lNORs+juDGlGHPB",
   "name": "",
   "version": ""
  },
  "kernelspec": {
   "display_name": "Python 3",
   "language": "python",
   "name": "python3"
  },
  "language_info": {
   "codemirror_mode": {
    "name": "ipython",
    "version": 3
   },
   "file_extension": ".py",
   "mimetype": "text/x-python",
   "name": "python",
   "nbconvert_exporter": "python",
   "pygments_lexer": "ipython3",
   "version": "3.8.5"
  }
 },
 "nbformat": 4,
 "nbformat_minor": 1
}
