{
 "cells": [
  {
   "cell_type": "code",
   "execution_count": 1,
   "metadata": {
    "executionInfo": {
     "elapsed": 8,
     "status": "ok",
     "timestamp": 1664434105712,
     "user": {
      "displayName": "Atieh Sohrabi",
      "userId": "02085666091885470785"
     },
     "user_tz": -210
    },
    "id": "aGHNtHVGcMGZ"
   },
   "outputs": [],
   "source": [
    "import matplotlib.pyplot as plt\n",
    "import pandas as pd\n",
    "import pylab as pl\n",
    "import numpy as np\n",
    "%matplotlib inline"
   ]
  },
  {
   "cell_type": "code",
   "execution_count": 3,
   "metadata": {
    "colab": {
     "base_uri": "https://localhost:8080/",
     "height": 394
    },
    "executionInfo": {
     "elapsed": 62,
     "status": "ok",
     "timestamp": 1664434108919,
     "user": {
      "displayName": "Atieh Sohrabi",
      "userId": "02085666091885470785"
     },
     "user_tz": -210
    },
    "id": "oXjySvNa8yUN",
    "outputId": "8d496e1e-306a-4c75-a9d7-052bada1fbc1"
   },
   "outputs": [
    {
     "data": {
      "text/html": [
       "<div>\n",
       "<style scoped>\n",
       "    .dataframe tbody tr th:only-of-type {\n",
       "        vertical-align: middle;\n",
       "    }\n",
       "\n",
       "    .dataframe tbody tr th {\n",
       "        vertical-align: top;\n",
       "    }\n",
       "\n",
       "    .dataframe thead th {\n",
       "        text-align: right;\n",
       "    }\n",
       "</style>\n",
       "<table border=\"1\" class=\"dataframe\">\n",
       "  <thead>\n",
       "    <tr style=\"text-align: right;\">\n",
       "      <th></th>\n",
       "      <th>p</th>\n",
       "      <th>q</th>\n",
       "      <th>r</th>\n",
       "      <th>A1</th>\n",
       "      <th>L1</th>\n",
       "      <th>A2</th>\n",
       "      <th>L2</th>\n",
       "      <th>A3</th>\n",
       "      <th>L3</th>\n",
       "    </tr>\n",
       "  </thead>\n",
       "  <tbody>\n",
       "    <tr>\n",
       "      <th>0</th>\n",
       "      <td>3</td>\n",
       "      <td>2</td>\n",
       "      <td>2</td>\n",
       "      <td>0.697272</td>\n",
       "      <td>588</td>\n",
       "      <td>0.897795</td>\n",
       "      <td>622</td>\n",
       "      <td>0.673578</td>\n",
       "      <td>655</td>\n",
       "    </tr>\n",
       "    <tr>\n",
       "      <th>1</th>\n",
       "      <td>3</td>\n",
       "      <td>3</td>\n",
       "      <td>2</td>\n",
       "      <td>0.737086</td>\n",
       "      <td>592</td>\n",
       "      <td>0.917456</td>\n",
       "      <td>621</td>\n",
       "      <td>0.701330</td>\n",
       "      <td>650</td>\n",
       "    </tr>\n",
       "    <tr>\n",
       "      <th>2</th>\n",
       "      <td>3</td>\n",
       "      <td>4</td>\n",
       "      <td>2</td>\n",
       "      <td>0.731879</td>\n",
       "      <td>595</td>\n",
       "      <td>0.917330</td>\n",
       "      <td>621</td>\n",
       "      <td>0.696167</td>\n",
       "      <td>647</td>\n",
       "    </tr>\n",
       "    <tr>\n",
       "      <th>3</th>\n",
       "      <td>3</td>\n",
       "      <td>5</td>\n",
       "      <td>2</td>\n",
       "      <td>0.608153</td>\n",
       "      <td>596</td>\n",
       "      <td>0.905459</td>\n",
       "      <td>621</td>\n",
       "      <td>0.632662</td>\n",
       "      <td>645</td>\n",
       "    </tr>\n",
       "    <tr>\n",
       "      <th>4</th>\n",
       "      <td>3</td>\n",
       "      <td>6</td>\n",
       "      <td>2</td>\n",
       "      <td>0.492272</td>\n",
       "      <td>597</td>\n",
       "      <td>0.892537</td>\n",
       "      <td>621</td>\n",
       "      <td>0.527849</td>\n",
       "      <td>644</td>\n",
       "    </tr>\n",
       "    <tr>\n",
       "      <th>5</th>\n",
       "      <td>3</td>\n",
       "      <td>7</td>\n",
       "      <td>2</td>\n",
       "      <td>0.412174</td>\n",
       "      <td>598</td>\n",
       "      <td>0.882359</td>\n",
       "      <td>621</td>\n",
       "      <td>0.404073</td>\n",
       "      <td>643</td>\n",
       "    </tr>\n",
       "    <tr>\n",
       "      <th>6</th>\n",
       "      <td>3</td>\n",
       "      <td>8</td>\n",
       "      <td>2</td>\n",
       "      <td>0.273795</td>\n",
       "      <td>598</td>\n",
       "      <td>0.875351</td>\n",
       "      <td>621</td>\n",
       "      <td>0.301801</td>\n",
       "      <td>643</td>\n",
       "    </tr>\n",
       "    <tr>\n",
       "      <th>7</th>\n",
       "      <td>3</td>\n",
       "      <td>9</td>\n",
       "      <td>2</td>\n",
       "      <td>0.199852</td>\n",
       "      <td>599</td>\n",
       "      <td>0.870844</td>\n",
       "      <td>621</td>\n",
       "      <td>0.206111</td>\n",
       "      <td>643</td>\n",
       "    </tr>\n",
       "    <tr>\n",
       "      <th>8</th>\n",
       "      <td>3</td>\n",
       "      <td>2</td>\n",
       "      <td>3</td>\n",
       "      <td>0.739739</td>\n",
       "      <td>592</td>\n",
       "      <td>0.829748</td>\n",
       "      <td>621</td>\n",
       "      <td>0.684369</td>\n",
       "      <td>651</td>\n",
       "    </tr>\n",
       "    <tr>\n",
       "      <th>9</th>\n",
       "      <td>3</td>\n",
       "      <td>3</td>\n",
       "      <td>3</td>\n",
       "      <td>0.781619</td>\n",
       "      <td>596</td>\n",
       "      <td>0.895376</td>\n",
       "      <td>621</td>\n",
       "      <td>0.726220</td>\n",
       "      <td>645</td>\n",
       "    </tr>\n",
       "    <tr>\n",
       "      <th>10</th>\n",
       "      <td>3</td>\n",
       "      <td>4</td>\n",
       "      <td>3</td>\n",
       "      <td>0.806026</td>\n",
       "      <td>599</td>\n",
       "      <td>0.916419</td>\n",
       "      <td>621</td>\n",
       "      <td>0.765492</td>\n",
       "      <td>642</td>\n",
       "    </tr>\n",
       "  </tbody>\n",
       "</table>\n",
       "</div>"
      ],
      "text/plain": [
       "    p  q  r        A1   L1        A2   L2        A3   L3\n",
       "0   3  2  2  0.697272  588  0.897795  622  0.673578  655\n",
       "1   3  3  2  0.737086  592  0.917456  621  0.701330  650\n",
       "2   3  4  2  0.731879  595  0.917330  621  0.696167  647\n",
       "3   3  5  2  0.608153  596  0.905459  621  0.632662  645\n",
       "4   3  6  2  0.492272  597  0.892537  621  0.527849  644\n",
       "5   3  7  2  0.412174  598  0.882359  621  0.404073  643\n",
       "6   3  8  2  0.273795  598  0.875351  621  0.301801  643\n",
       "7   3  9  2  0.199852  599  0.870844  621  0.206111  643\n",
       "8   3  2  3  0.739739  592  0.829748  621  0.684369  651\n",
       "9   3  3  3  0.781619  596  0.895376  621  0.726220  645\n",
       "10  3  4  3  0.806026  599  0.916419  621  0.765492  642"
      ]
     },
     "execution_count": 3,
     "metadata": {},
     "output_type": "execute_result"
    }
   ],
   "source": [
    "df= pd.read_csv('dataSLSHSLpqr.csv')\n",
    "\n",
    "df.head(11)"
   ]
  },
  {
   "cell_type": "code",
   "execution_count": 4,
   "metadata": {
    "button": false,
    "colab": {
     "base_uri": "https://localhost:8080/",
     "height": 334
    },
    "executionInfo": {
     "elapsed": 1036,
     "status": "ok",
     "timestamp": 1664434109902,
     "user": {
      "displayName": "Atieh Sohrabi",
      "userId": "02085666091885470785"
     },
     "user_tz": -210
    },
    "id": "Hl7fTPj4cMGc",
    "new_sheet": false,
    "outputId": "553dd292-5175-4ba7-bd69-7f99557f7a0e",
    "run_control": {
     "read_only": false
    },
    "scrolled": true
   },
   "outputs": [
    {
     "data": {
      "image/png": "[encoded data removed]",
      "text/plain": [
       "<Figure size 1080x360 with 3 Axes>"
      ]
     },
     "metadata": {
      "needs_background": "light"
     },
     "output_type": "display_data"
    }
   ],
   "source": [
    "plt.figure(figsize=(15,5))\n",
    "plt.subplot(1,3,1)\n",
    "plt.scatter(df.p, df.L3,  color='blue')\n",
    "#plt.ylim(0,1)\n",
    "#plt.xlim(0,11)\n",
    "plt.xlabel(\"p\")\n",
    "plt.ylabel(\"L3\")\n",
    "plt.subplot(1,3,2)\n",
    "plt.scatter(df.q, df.L3,  color='blue')\n",
    "#plt.ylim(0,1)\n",
    "#plt.xlim(0,11)\n",
    "plt.xlabel(\"q\")\n",
    "plt.ylabel(\"L3\")\n",
    "plt.subplot(1,3,3)\n",
    "plt.scatter(df.r, df.L3,  color='blue')\n",
    "#plt.ylim(0,1)\n",
    "#plt.xlim(0,11)\n",
    "plt.xlabel(\"r\")\n",
    "plt.ylabel(\"L3\")\n",
    "plt.show()"
   ]
  },
  {
   "cell_type": "code",
   "execution_count": 5,
   "metadata": {
    "button": false,
    "colab": {
     "base_uri": "https://localhost:8080/",
     "height": 332
    },
    "executionInfo": {
     "elapsed": 42,
     "status": "ok",
     "timestamp": 1664434109903,
     "user": {
      "displayName": "Atieh Sohrabi",
      "userId": "02085666091885470785"
     },
     "user_tz": -210
    },
    "id": "ei8L8vT-cMGc",
    "new_sheet": false,
    "outputId": "08a967ab-703d-437f-9607-a54baafa395a",
    "run_control": {
     "read_only": false
    }
   },
   "outputs": [
    {
     "data": {
      "text/html": [
       "<div>\n",
       "<style scoped>\n",
       "    .dataframe tbody tr th:only-of-type {\n",
       "        vertical-align: middle;\n",
       "    }\n",
       "\n",
       "    .dataframe tbody tr th {\n",
       "        vertical-align: top;\n",
       "    }\n",
       "\n",
       "    .dataframe thead th {\n",
       "        text-align: right;\n",
       "    }\n",
       "</style>\n",
       "<table border=\"1\" class=\"dataframe\">\n",
       "  <thead>\n",
       "    <tr style=\"text-align: right;\">\n",
       "      <th></th>\n",
       "      <th>p</th>\n",
       "      <th>q</th>\n",
       "      <th>r</th>\n",
       "      <th>L3</th>\n",
       "    </tr>\n",
       "  </thead>\n",
       "  <tbody>\n",
       "    <tr>\n",
       "      <th>0</th>\n",
       "      <td>3</td>\n",
       "      <td>2</td>\n",
       "      <td>2</td>\n",
       "      <td>655</td>\n",
       "    </tr>\n",
       "    <tr>\n",
       "      <th>1</th>\n",
       "      <td>3</td>\n",
       "      <td>3</td>\n",
       "      <td>2</td>\n",
       "      <td>650</td>\n",
       "    </tr>\n",
       "    <tr>\n",
       "      <th>2</th>\n",
       "      <td>3</td>\n",
       "      <td>4</td>\n",
       "      <td>2</td>\n",
       "      <td>647</td>\n",
       "    </tr>\n",
       "    <tr>\n",
       "      <th>3</th>\n",
       "      <td>3</td>\n",
       "      <td>5</td>\n",
       "      <td>2</td>\n",
       "      <td>645</td>\n",
       "    </tr>\n",
       "    <tr>\n",
       "      <th>4</th>\n",
       "      <td>3</td>\n",
       "      <td>6</td>\n",
       "      <td>2</td>\n",
       "      <td>644</td>\n",
       "    </tr>\n",
       "    <tr>\n",
       "      <th>5</th>\n",
       "      <td>3</td>\n",
       "      <td>7</td>\n",
       "      <td>2</td>\n",
       "      <td>643</td>\n",
       "    </tr>\n",
       "    <tr>\n",
       "      <th>6</th>\n",
       "      <td>3</td>\n",
       "      <td>8</td>\n",
       "      <td>2</td>\n",
       "      <td>643</td>\n",
       "    </tr>\n",
       "    <tr>\n",
       "      <th>7</th>\n",
       "      <td>3</td>\n",
       "      <td>9</td>\n",
       "      <td>2</td>\n",
       "      <td>643</td>\n",
       "    </tr>\n",
       "    <tr>\n",
       "      <th>8</th>\n",
       "      <td>3</td>\n",
       "      <td>2</td>\n",
       "      <td>3</td>\n",
       "      <td>651</td>\n",
       "    </tr>\n",
       "  </tbody>\n",
       "</table>\n",
       "</div>"
      ],
      "text/plain": [
       "   p  q  r   L3\n",
       "0  3  2  2  655\n",
       "1  3  3  2  650\n",
       "2  3  4  2  647\n",
       "3  3  5  2  645\n",
       "4  3  6  2  644\n",
       "5  3  7  2  643\n",
       "6  3  8  2  643\n",
       "7  3  9  2  643\n",
       "8  3  2  3  651"
      ]
     },
     "execution_count": 5,
     "metadata": {},
     "output_type": "execute_result"
    }
   ],
   "source": [
    "cdf = df[['p','q','r','L3']]\n",
    "cdf.head(9)"
   ]
  },
  {
   "cell_type": "code",
   "execution_count": 6,
   "metadata": {
    "button": false,
    "colab": {
     "base_uri": "https://localhost:8080/"
    },
    "executionInfo": {
     "elapsed": 41,
     "status": "ok",
     "timestamp": 1664434109905,
     "user": {
      "displayName": "Atieh Sohrabi",
      "userId": "02085666091885470785"
     },
     "user_tz": -210
    },
    "id": "g8E7Vi8PcMGd",
    "new_sheet": false,
    "outputId": "59364978-a2a1-4541-bfe8-94f33758f476",
    "run_control": {
     "read_only": false
    }
   },
   "outputs": [
    {
     "data": {
      "text/plain": [
       "448"
      ]
     },
     "execution_count": 6,
     "metadata": {},
     "output_type": "execute_result"
    }
   ],
   "source": [
    "msk = np.random.rand(len(df)) < 0.8\n",
    "train = cdf[msk]\n",
    "test = cdf[~msk]\n",
    "len(df)"
   ]
  },
  {
   "cell_type": "code",
   "execution_count": 7,
   "metadata": {
    "button": false,
    "colab": {
     "base_uri": "https://localhost:8080/"
    },
    "executionInfo": {
     "elapsed": 56,
     "status": "ok",
     "timestamp": 1664434109923,
     "user": {
      "displayName": "Atieh Sohrabi",
      "userId": "02085666091885470785"
     },
     "user_tz": -210
    },
    "id": "Pwtfwu6GSKUL",
    "new_sheet": false,
    "outputId": "3eccc4aa-993f-4340-8d3f-373541087ba9",
    "run_control": {
     "read_only": false
    }
   },
   "outputs": [
    {
     "name": "stdout",
     "output_type": "stream",
     "text": [
      "Coefficients:  [[-0.07082953 -1.96637668 -2.40932001]]\n",
      "intercepts:  [659.76409374]\n"
     ]
    }
   ],
   "source": [
    "from sklearn import linear_model\n",
    "regr = linear_model.LinearRegression()\n",
    "x = np.asanyarray(train[['p','q','r']])\n",
    "y = np.asanyarray(train[['L3']])\n",
    "from sklearn.model_selection import train_test_split\n",
    "x_train,x_test,y_train,y_test = train_test_split(x,y,test_size=0.2,random_state=3)\n",
    "regr.fit (x_train, y_train)\n",
    "# The coefficients\n",
    "print ('Coefficients: ', regr.coef_)\n",
    "print ('intercepts: ', regr.intercept_)"
   ]
  },
  {
   "cell_type": "code",
   "execution_count": 764,
   "metadata": {
    "colab": {
     "base_uri": "https://localhost:8080/",
     "height": 351
    },
    "executionInfo": {
     "elapsed": 53,
     "status": "ok",
     "timestamp": 1664434109923,
     "user": {
      "displayName": "Atieh Sohrabi",
      "userId": "02085666091885470785"
     },
     "user_tz": -210
    },
    "id": "nsWCz2ujcMGe",
    "outputId": "b20a3100-1035-4406-bbae-e364b4d35310"
   },
   "outputs": [
    {
     "data": {
      "text/plain": [
       "[<matplotlib.lines.Line2D at 0x7fc989af1ed0>]"
      ]
     },
     "execution_count": 764,
     "metadata": {},
     "output_type": "execute_result"
    },
    {
     "data": {
      "image/png": "[encoded data removed]",
      "text/plain": [
       "<Figure size 1080x360 with 3 Axes>"
      ]
     },
     "metadata": {
      "needs_background": "light"
     },
     "output_type": "display_data"
    }
   ],
   "source": [
    "plt.figure(figsize=(15,5))\n",
    "plt.subplot(1,3,1)\n",
    "plt.scatter(train.p, train.L3,  color='blue')\n",
    "plt.xlabel(\"p\")\n",
    "plt.ylabel(\"L3\")\n",
    "XX = np.arange(0.0, 10.0, 0.1)\n",
    "yy = regr.intercept_[0]+ regr.coef_[0][0]*XX + regr.coef_[0][1]*XX + regr.coef_[0][2]*XX\n",
    "plt.plot(XX, yy, '-r' )\n",
    "#plt.ylim(0,1)\n",
    "#plt.xlim(0,11)\n",
    "\n",
    "plt.subplot(1,3,2)\n",
    "plt.scatter(train.q, train.L3,  color='green')\n",
    "plt.xlabel(\"q\")\n",
    "plt.ylabel(\"L3\")\n",
    "XX = np.arange(0.0, 10.0, 0.1)\n",
    "yy = regr.intercept_[0]+ regr.coef_[0][0]*XX + regr.coef_[0][1]*XX  + regr.coef_[0][2]*XX\n",
    "#plt.ylim(0,1)\n",
    "#plt.xlim(0,11)\n",
    "plt.plot(XX, yy, '-r' )\n",
    "\n",
    "plt.subplot(1,3,3)\n",
    "plt.scatter(train.r, train.L3,  color='green')\n",
    "plt.xlabel(\"r\")\n",
    "plt.ylabel(\"L3\")\n",
    "XX = np.arange(0.0, 10.0, 0.1)\n",
    "yy = regr.intercept_[0]+ regr.coef_[0][0]*XX + regr.coef_[0][1]*XX  + regr.coef_[0][2]*XX\n",
    "#plt.ylim(0,1)\n",
    "#plt.xlim(0,11)\n",
    "plt.plot(XX, yy, '-r' )\n"
   ]
  },
  {
   "cell_type": "code",
   "execution_count": 8,
   "metadata": {
    "button": false,
    "colab": {
     "base_uri": "https://localhost:8080/"
    },
    "executionInfo": {
     "elapsed": 51,
     "status": "ok",
     "timestamp": 1664434109924,
     "user": {
      "displayName": "Atieh Sohrabi",
      "userId": "02085666091885470785"
     },
     "user_tz": -210
    },
    "id": "nJ74jMtVcMGf",
    "new_sheet": false,
    "outputId": "4f2dfc25-d5d2-4402-b41c-098ad42125cb",
    "run_control": {
     "read_only": false
    }
   },
   "outputs": [
    {
     "name": "stdout",
     "output_type": "stream",
     "text": [
      "Variance score: 0.84\n"
     ]
    }
   ],
   "source": [
    "y_hat= regr.predict(x_test)\n",
    "x = np.asanyarray(x_test)\n",
    "y = np.asanyarray(y_test)\n",
    "\n",
    "from sklearn.metrics import r2_score \n",
    "\n",
    "print('Variance score: %.2f' % r2_score(y, y_hat))"
   ]
  },
  {
   "cell_type": "code",
   "execution_count": 766,
   "metadata": {
    "colab": {
     "base_uri": "https://localhost:8080/",
     "height": 367
    },
    "executionInfo": {
     "elapsed": 755,
     "status": "ok",
     "timestamp": 1664434110631,
     "user": {
      "displayName": "Atieh Sohrabi",
      "userId": "02085666091885470785"
     },
     "user_tz": -210
    },
    "id": "HapKs9CCcMGg",
    "outputId": "b438bd66-4604-4b62-b4ce-a42e74a90de2"
   },
   "outputs": [
    {
     "data": {
      "text/plain": [
       "<matplotlib.legend.Legend at 0x7fc989a2bd90>"
      ]
     },
     "execution_count": 766,
     "metadata": {},
     "output_type": "execute_result"
    },
    {
     "data": {
      "image/png": "[encoded data removed]",
      "text/plain": [
       "<Figure size 1080x360 with 2 Axes>"
      ]
     },
     "metadata": {
      "needs_background": "light"
     },
     "output_type": "display_data"
    }
   ],
   "source": [
    "plt.figure(figsize=(15,5))\n",
    "plt.subplot(1,2,1)\n",
    "y_pred_train = regr.intercept_[0]+ regr.coef_[0][0]*x_train[:,0] + regr.coef_[0][1]*x_train[:,1] + regr.coef_[0][2]*x_train[:,2]\n",
    "plt.scatter(  y_train , y_pred_train, color='blue' , label='L3')\n",
    "plt.xlabel(\"Actual data\")\n",
    "plt.ylabel(\"Predicted data\")\n",
    "XX = np.arange(0.0, 1000.0, 0.1)\n",
    "#yy = regr.intercept_[0]+ regr.coef_[0][0]*XX + regr.coef_[0][1]*XX\n",
    "yy = XX\n",
    "plt.plot(XX, yy, '-r' )\n",
    "plt.ylim(620,660)\n",
    "plt.xlim(620,660)\n",
    "plt.title('Training set : 80%')\n",
    "plt.legend()\n",
    "\n",
    "plt.subplot(1,2,2)\n",
    "plt.xlabel(\"Actual data\")\n",
    "\n",
    "yy = XX\n",
    "plt.plot(XX, yy, '-r' )\n",
    "y_pred_test = regr.intercept_[0]+ regr.coef_[0][0]*x_test[:,0] + regr.coef_[0][1]*x_test[:,1] + regr.coef_[0][2]*x_test[:,2]\n",
    "plt.ylim(620,660)\n",
    "plt.xlim(620,660)\n",
    "plt.scatter( y_test ,y_pred_test,  color='green', label='L3')\n",
    "plt.title('Testing set : 20%')\n",
    "plt.legend()"
   ]
  },
  {
   "cell_type": "code",
   "execution_count": 13,
   "metadata": {
    "colab": {
     "base_uri": "https://localhost:8080/"
    },
    "executionInfo": {
     "elapsed": 37,
     "status": "ok",
     "timestamp": 1664434110633,
     "user": {
      "displayName": "Atieh Sohrabi",
      "userId": "02085666091885470785"
     },
     "user_tz": -210
    },
    "id": "yynZmBXIsvZS",
    "outputId": "7f34147c-7d6b-4e3d-ec15-0473d3dcf4a7"
   },
   "outputs": [
    {
     "name": "stdout",
     "output_type": "stream",
     "text": [
      "[[633]\n",
      " [634]\n",
      " [634]\n",
      " [633]\n",
      " [636]\n",
      " [647]\n",
      " [643]\n",
      " [626]\n",
      " [631]\n",
      " [649]\n",
      " [643]\n",
      " [638]\n",
      " [634]\n",
      " [643]\n",
      " [639]\n",
      " [639]\n",
      " [645]\n",
      " [650]\n",
      " [634]\n",
      " [634]\n",
      " [644]\n",
      " [628]\n",
      " [647]\n",
      " [645]\n",
      " [630]\n",
      " [640]\n",
      " [645]\n",
      " [645]\n",
      " [647]\n",
      " [640]\n",
      " [636]\n",
      " [632]\n",
      " [630]\n",
      " [633]\n",
      " [627]\n",
      " [643]\n",
      " [630]\n",
      " [632]\n",
      " [635]\n",
      " [637]\n",
      " [637]\n",
      " [629]\n",
      " [645]\n",
      " [636]\n",
      " [643]\n",
      " [630]\n",
      " [642]\n",
      " [630]\n",
      " [634]\n",
      " [642]\n",
      " [641]\n",
      " [637]\n",
      " [636]\n",
      " [643]\n",
      " [632]\n",
      " [631]\n",
      " [643]\n",
      " [630]\n",
      " [625]\n",
      " [649]\n",
      " [654]\n",
      " [633]\n",
      " [644]\n",
      " [645]\n",
      " [645]\n",
      " [631]\n",
      " [638]\n",
      " [634]\n",
      " [645]\n",
      " [633]\n",
      " [641]\n",
      " [629]\n",
      " [645]\n",
      " [638]\n",
      " [629]\n",
      " [628]\n",
      " [633]\n",
      " [633]\n",
      " [627]\n",
      " [627]\n",
      " [638]\n",
      " [638]\n",
      " [645]\n",
      " [639]\n",
      " [627]\n",
      " [636]\n",
      " [626]\n",
      " [634]\n",
      " [637]\n",
      " [654]\n",
      " [630]\n",
      " [643]\n",
      " [645]\n",
      " [640]\n",
      " [645]\n",
      " [634]\n",
      " [634]\n",
      " [637]\n",
      " [649]\n",
      " [634]\n",
      " [630]\n",
      " [632]\n",
      " [647]\n",
      " [630]\n",
      " [630]\n",
      " [638]\n",
      " [633]\n",
      " [643]\n",
      " [644]\n",
      " [649]\n",
      " [637]\n",
      " [643]\n",
      " [626]\n",
      " [627]\n",
      " [631]\n",
      " [630]\n",
      " [638]\n",
      " [631]\n",
      " [647]\n",
      " [643]\n",
      " [645]\n",
      " [645]\n",
      " [630]\n",
      " [648]\n",
      " [628]\n",
      " [642]\n",
      " [644]\n",
      " [627]\n",
      " [644]\n",
      " [627]\n",
      " [641]\n",
      " [642]\n",
      " [638]\n",
      " [634]\n",
      " [635]\n",
      " [637]\n",
      " [626]\n",
      " [642]\n",
      " [633]\n",
      " [633]\n",
      " [633]\n",
      " [637]\n",
      " [634]\n",
      " [631]\n",
      " [654]\n",
      " [650]\n",
      " [626]\n",
      " [627]\n",
      " [631]\n",
      " [627]\n",
      " [625]\n",
      " [644]\n",
      " [626]\n",
      " [626]\n",
      " [644]\n",
      " [633]\n",
      " [628]\n",
      " [647]\n",
      " [630]\n",
      " [650]\n",
      " [636]\n",
      " [638]\n",
      " [628]\n",
      " [626]\n",
      " [631]\n",
      " [630]\n",
      " [636]\n",
      " [627]\n",
      " [644]\n",
      " [632]\n",
      " [627]\n",
      " [631]\n",
      " [637]\n",
      " [634]\n",
      " [637]\n",
      " [633]\n",
      " [634]\n",
      " [633]\n",
      " [649]\n",
      " [643]\n",
      " [640]\n",
      " [638]\n",
      " [633]\n",
      " [642]\n",
      " [642]\n",
      " [630]\n",
      " [640]\n",
      " [646]\n",
      " [646]\n",
      " [634]\n",
      " [640]\n",
      " [647]\n",
      " [630]\n",
      " [639]\n",
      " [626]\n",
      " [632]\n",
      " [636]\n",
      " [628]\n",
      " [643]\n",
      " [629]\n",
      " [628]\n",
      " [645]\n",
      " [628]\n",
      " [631]\n",
      " [629]\n",
      " [637]\n",
      " [632]\n",
      " [625]\n",
      " [632]\n",
      " [644]\n",
      " [625]\n",
      " [632]\n",
      " [630]\n",
      " [630]\n",
      " [633]\n",
      " [638]\n",
      " [653]\n",
      " [638]\n",
      " [644]\n",
      " [643]\n",
      " [641]\n",
      " [647]\n",
      " [636]\n",
      " [627]\n",
      " [650]\n",
      " [627]\n",
      " [637]\n",
      " [634]\n",
      " [642]\n",
      " [627]\n",
      " [634]\n",
      " [647]\n",
      " [634]\n",
      " [634]\n",
      " [643]\n",
      " [644]\n",
      " [628]\n",
      " [626]\n",
      " [643]\n",
      " [632]\n",
      " [627]\n",
      " [642]\n",
      " [641]\n",
      " [630]\n",
      " [650]\n",
      " [636]\n",
      " [646]\n",
      " [629]\n",
      " [644]\n",
      " [643]\n",
      " [625]\n",
      " [638]\n",
      " [645]\n",
      " [645]\n",
      " [655]\n",
      " [640]\n",
      " [632]\n",
      " [632]\n",
      " [643]\n",
      " [636]\n",
      " [639]\n",
      " [626]\n",
      " [634]\n",
      " [638]\n",
      " [642]\n",
      " [626]\n",
      " [626]\n",
      " [636]\n",
      " [650]\n",
      " [633]\n",
      " [634]\n",
      " [628]\n",
      " [628]\n",
      " [627]\n",
      " [645]\n",
      " [638]\n",
      " [638]\n",
      " [639]\n",
      " [645]\n",
      " [640]\n",
      " [639]\n",
      " [649]\n",
      " [628]\n",
      " [633]\n",
      " [642]\n",
      " [643]\n",
      " [629]\n",
      " [626]\n",
      " [632]\n",
      " [637]\n",
      " [627]]\n"
     ]
    }
   ],
   "source": [
    "print(y_train)"
   ]
  },
  {
   "cell_type": "code",
   "execution_count": 15,
   "metadata": {
    "colab": {
     "base_uri": "https://localhost:8080/"
    },
    "executionInfo": {
     "elapsed": 34,
     "status": "ok",
     "timestamp": 1664434110634,
     "user": {
      "displayName": "Atieh Sohrabi",
      "userId": "02085666091885470785"
     },
     "user_tz": -210
    },
    "id": "x6Xcjphmsz7H",
    "outputId": "49864b46-1acd-4361-9c62-ba20ee908a68"
   },
   "outputs": [
    {
     "ename": "NameError",
     "evalue": "name 'y_pred_train' is not defined",
     "output_type": "error",
     "traceback": [
      "\u001b[1;31m---------------------------------------------------------------------------\u001b[0m",
      "\u001b[1;31mNameError\u001b[0m                                 Traceback (most recent call last)",
      "\u001b[1;32m<ipython-input-15-4ecc30f93642>\u001b[0m in \u001b[0;36m<module>\u001b[1;34m\u001b[0m\n\u001b[1;32m----> 1\u001b[1;33m \u001b[0mprint\u001b[0m\u001b[1;33m(\u001b[0m\u001b[0my_pred_train\u001b[0m\u001b[1;33m)\u001b[0m\u001b[1;33m\u001b[0m\u001b[1;33m\u001b[0m\u001b[0m\n\u001b[0m",
      "\u001b[1;31mNameError\u001b[0m: name 'y_pred_train' is not defined"
     ]
    }
   ],
   "source": [
    "print(y_pred_train)"
   ]
  },
  {
   "cell_type": "code",
   "execution_count": 14,
   "metadata": {
    "colab": {
     "base_uri": "https://localhost:8080/"
    },
    "executionInfo": {
     "elapsed": 26,
     "status": "ok",
     "timestamp": 1664434110635,
     "user": {
      "displayName": "Atieh Sohrabi",
      "userId": "02085666091885470785"
     },
     "user_tz": -210
    },
    "id": "aJWi0z28s3iA",
    "outputId": "153cff3d-e77f-42af-d38a-85ce5a62e170"
   },
   "outputs": [
    {
     "name": "stdout",
     "output_type": "stream",
     "text": [
      "[[638]\n",
      " [641]\n",
      " [637]\n",
      " [630]\n",
      " [630]\n",
      " [633]\n",
      " [637]\n",
      " [640]\n",
      " [636]\n",
      " [642]\n",
      " [654]\n",
      " [636]\n",
      " [630]\n",
      " [638]\n",
      " [630]\n",
      " [643]\n",
      " [638]\n",
      " [645]\n",
      " [633]\n",
      " [643]\n",
      " [626]\n",
      " [627]\n",
      " [638]\n",
      " [630]\n",
      " [634]\n",
      " [638]\n",
      " [638]\n",
      " [638]\n",
      " [638]\n",
      " [635]\n",
      " [630]\n",
      " [635]\n",
      " [632]\n",
      " [654]\n",
      " [654]\n",
      " [627]\n",
      " [646]\n",
      " [633]\n",
      " [631]\n",
      " [642]\n",
      " [635]\n",
      " [647]\n",
      " [627]\n",
      " [631]\n",
      " [638]\n",
      " [638]\n",
      " [629]\n",
      " [645]\n",
      " [638]\n",
      " [631]\n",
      " [644]\n",
      " [633]\n",
      " [629]\n",
      " [643]\n",
      " [643]\n",
      " [633]\n",
      " [643]\n",
      " [636]\n",
      " [628]\n",
      " [630]\n",
      " [645]\n",
      " [638]\n",
      " [642]\n",
      " [627]\n",
      " [631]\n",
      " [637]\n",
      " [638]\n",
      " [649]\n",
      " [633]\n",
      " [628]\n",
      " [629]\n",
      " [631]\n",
      " [637]]\n"
     ]
    }
   ],
   "source": [
    "print(y_test)"
   ]
  },
  {
   "cell_type": "code",
   "execution_count": null,
   "metadata": {},
   "outputs": [],
   "source": []
  }
 ],
 "metadata": {
  "colab": {
   "authorship_tag": "ABX9TyMHuUZ9vJXXNqeF4HhnOw0z",
   "provenance": []
  },
  "kernelspec": {
   "display_name": "Python 3",
   "language": "python",
   "name": "python3"
  },
  "language_info": {
   "codemirror_mode": {
    "name": "ipython",
    "version": 3
   },
   "file_extension": ".py",
   "mimetype": "text/x-python",
   "name": "python",
   "nbconvert_exporter": "python",
   "pygments_lexer": "ipython3",
   "version": "3.8.5"
  }
 },
 "nbformat": 4,
 "nbformat_minor": 1
}
