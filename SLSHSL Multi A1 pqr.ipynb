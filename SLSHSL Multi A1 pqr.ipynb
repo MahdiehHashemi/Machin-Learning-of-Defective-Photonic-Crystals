{
 "cells": [
  {
   "cell_type": "code",
   "execution_count": 1,
   "metadata": {
    "executionInfo": {
     "elapsed": 5,
     "status": "ok",
     "timestamp": 1664387350944,
     "user": {
      "displayName": "Atieh Sohrabi",
      "userId": "02085666091885470785"
     },
     "user_tz": -210
    },
    "id": "xztj9TGtlPIO"
   },
   "outputs": [],
   "source": [
    "import matplotlib.pyplot as plt\n",
    "import pandas as pd\n",
    "import pylab as pl\n",
    "import numpy as np\n",
    "%matplotlib inline"
   ]
  },
  {
   "cell_type": "code",
   "execution_count": null,
   "metadata": {
    "colab": {
     "base_uri": "https://localhost:8080/"
    },
    "executionInfo": {
     "elapsed": 5071,
     "status": "ok",
     "timestamp": 1664387356011,
     "user": {
      "displayName": "Atieh Sohrabi",
      "userId": "02085666091885470785"
     },
     "user_tz": -210
    },
    "id": "ahmM1it68dAV",
    "outputId": "d5c677ff-5fa1-4144-ed1c-ea16729f57d4"
   },
   "outputs": [],
   "source": []
  },
  {
   "cell_type": "code",
   "execution_count": 2,
   "metadata": {
    "colab": {
     "base_uri": "https://localhost:8080/",
     "height": 394
    },
    "executionInfo": {
     "elapsed": 48,
     "status": "ok",
     "timestamp": 1664387356012,
     "user": {
      "displayName": "Atieh Sohrabi",
      "userId": "02085666091885470785"
     },
     "user_tz": -210
    },
    "id": "oXjySvNa8yUN",
    "outputId": "61e253d1-dd8a-4e19-90f6-c4a38cc1fa2e"
   },
   "outputs": [
    {
     "data": {
      "text/html": [
       "<div>\n",
       "<style scoped>\n",
       "    .dataframe tbody tr th:only-of-type {\n",
       "        vertical-align: middle;\n",
       "    }\n",
       "\n",
       "    .dataframe tbody tr th {\n",
       "        vertical-align: top;\n",
       "    }\n",
       "\n",
       "    .dataframe thead th {\n",
       "        text-align: right;\n",
       "    }\n",
       "</style>\n",
       "<table border=\"1\" class=\"dataframe\">\n",
       "  <thead>\n",
       "    <tr style=\"text-align: right;\">\n",
       "      <th></th>\n",
       "      <th>p</th>\n",
       "      <th>q</th>\n",
       "      <th>r</th>\n",
       "      <th>A1</th>\n",
       "      <th>L1</th>\n",
       "      <th>A2</th>\n",
       "      <th>L2</th>\n",
       "      <th>A3</th>\n",
       "      <th>L3</th>\n",
       "    </tr>\n",
       "  </thead>\n",
       "  <tbody>\n",
       "    <tr>\n",
       "      <th>0</th>\n",
       "      <td>3</td>\n",
       "      <td>2</td>\n",
       "      <td>2</td>\n",
       "      <td>0.697272</td>\n",
       "      <td>588</td>\n",
       "      <td>0.897795</td>\n",
       "      <td>622</td>\n",
       "      <td>0.673578</td>\n",
       "      <td>655</td>\n",
       "    </tr>\n",
       "    <tr>\n",
       "      <th>1</th>\n",
       "      <td>3</td>\n",
       "      <td>3</td>\n",
       "      <td>2</td>\n",
       "      <td>0.737086</td>\n",
       "      <td>592</td>\n",
       "      <td>0.917456</td>\n",
       "      <td>621</td>\n",
       "      <td>0.701330</td>\n",
       "      <td>650</td>\n",
       "    </tr>\n",
       "    <tr>\n",
       "      <th>2</th>\n",
       "      <td>3</td>\n",
       "      <td>4</td>\n",
       "      <td>2</td>\n",
       "      <td>0.731879</td>\n",
       "      <td>595</td>\n",
       "      <td>0.917330</td>\n",
       "      <td>621</td>\n",
       "      <td>0.696167</td>\n",
       "      <td>647</td>\n",
       "    </tr>\n",
       "    <tr>\n",
       "      <th>3</th>\n",
       "      <td>3</td>\n",
       "      <td>5</td>\n",
       "      <td>2</td>\n",
       "      <td>0.608153</td>\n",
       "      <td>596</td>\n",
       "      <td>0.905459</td>\n",
       "      <td>621</td>\n",
       "      <td>0.632662</td>\n",
       "      <td>645</td>\n",
       "    </tr>\n",
       "    <tr>\n",
       "      <th>4</th>\n",
       "      <td>3</td>\n",
       "      <td>6</td>\n",
       "      <td>2</td>\n",
       "      <td>0.492272</td>\n",
       "      <td>597</td>\n",
       "      <td>0.892537</td>\n",
       "      <td>621</td>\n",
       "      <td>0.527849</td>\n",
       "      <td>644</td>\n",
       "    </tr>\n",
       "    <tr>\n",
       "      <th>5</th>\n",
       "      <td>3</td>\n",
       "      <td>7</td>\n",
       "      <td>2</td>\n",
       "      <td>0.412174</td>\n",
       "      <td>598</td>\n",
       "      <td>0.882359</td>\n",
       "      <td>621</td>\n",
       "      <td>0.404073</td>\n",
       "      <td>643</td>\n",
       "    </tr>\n",
       "    <tr>\n",
       "      <th>6</th>\n",
       "      <td>3</td>\n",
       "      <td>8</td>\n",
       "      <td>2</td>\n",
       "      <td>0.273795</td>\n",
       "      <td>598</td>\n",
       "      <td>0.875351</td>\n",
       "      <td>621</td>\n",
       "      <td>0.301801</td>\n",
       "      <td>643</td>\n",
       "    </tr>\n",
       "    <tr>\n",
       "      <th>7</th>\n",
       "      <td>3</td>\n",
       "      <td>9</td>\n",
       "      <td>2</td>\n",
       "      <td>0.199852</td>\n",
       "      <td>599</td>\n",
       "      <td>0.870844</td>\n",
       "      <td>621</td>\n",
       "      <td>0.206111</td>\n",
       "      <td>643</td>\n",
       "    </tr>\n",
       "    <tr>\n",
       "      <th>8</th>\n",
       "      <td>3</td>\n",
       "      <td>2</td>\n",
       "      <td>3</td>\n",
       "      <td>0.739739</td>\n",
       "      <td>592</td>\n",
       "      <td>0.829748</td>\n",
       "      <td>621</td>\n",
       "      <td>0.684369</td>\n",
       "      <td>651</td>\n",
       "    </tr>\n",
       "    <tr>\n",
       "      <th>9</th>\n",
       "      <td>3</td>\n",
       "      <td>3</td>\n",
       "      <td>3</td>\n",
       "      <td>0.781619</td>\n",
       "      <td>596</td>\n",
       "      <td>0.895376</td>\n",
       "      <td>621</td>\n",
       "      <td>0.726220</td>\n",
       "      <td>645</td>\n",
       "    </tr>\n",
       "    <tr>\n",
       "      <th>10</th>\n",
       "      <td>3</td>\n",
       "      <td>4</td>\n",
       "      <td>3</td>\n",
       "      <td>0.806026</td>\n",
       "      <td>599</td>\n",
       "      <td>0.916419</td>\n",
       "      <td>621</td>\n",
       "      <td>0.765492</td>\n",
       "      <td>642</td>\n",
       "    </tr>\n",
       "  </tbody>\n",
       "</table>\n",
       "</div>"
      ],
      "text/plain": [
       "    p  q  r        A1   L1        A2   L2        A3   L3\n",
       "0   3  2  2  0.697272  588  0.897795  622  0.673578  655\n",
       "1   3  3  2  0.737086  592  0.917456  621  0.701330  650\n",
       "2   3  4  2  0.731879  595  0.917330  621  0.696167  647\n",
       "3   3  5  2  0.608153  596  0.905459  621  0.632662  645\n",
       "4   3  6  2  0.492272  597  0.892537  621  0.527849  644\n",
       "5   3  7  2  0.412174  598  0.882359  621  0.404073  643\n",
       "6   3  8  2  0.273795  598  0.875351  621  0.301801  643\n",
       "7   3  9  2  0.199852  599  0.870844  621  0.206111  643\n",
       "8   3  2  3  0.739739  592  0.829748  621  0.684369  651\n",
       "9   3  3  3  0.781619  596  0.895376  621  0.726220  645\n",
       "10  3  4  3  0.806026  599  0.916419  621  0.765492  642"
      ]
     },
     "execution_count": 2,
     "metadata": {},
     "output_type": "execute_result"
    }
   ],
   "source": [
    "df= pd.read_csv('dataSLSHSLpqr.csv')\n",
    "\n",
    "df.head(11)"
   ]
  },
  {
   "cell_type": "code",
   "execution_count": 17,
   "metadata": {
    "button": false,
    "colab": {
     "base_uri": "https://localhost:8080/",
     "height": 338
    },
    "executionInfo": {
     "elapsed": 1673,
     "status": "ok",
     "timestamp": 1664387357649,
     "user": {
      "displayName": "Atieh Sohrabi",
      "userId": "02085666091885470785"
     },
     "user_tz": -210
    },
    "id": "acqRFRvuu-Kr",
    "new_sheet": false,
    "outputId": "051e5351-c2f2-4f3d-9ffb-06124a60a2d3",
    "run_control": {
     "read_only": false
    },
    "scrolled": true
   },
   "outputs": [
    {
     "data": {
      "image/png": "[encoded data removed]",
      "text/plain": [
       "<Figure size 1080x360 with 3 Axes>"
      ]
     },
     "metadata": {
      "needs_background": "light"
     },
     "output_type": "display_data"
    }
   ],
   "source": [
    "plt.figure(figsize=(15,5))\n",
    "plt.subplot(1,3,1)\n",
    "plt.scatter(df.p, df.A1,  color='blue')\n",
    "plt.ylim(0,1)\n",
    "plt.xlim(0,11)\n",
    "plt.xlabel(\"p\")\n",
    "plt.ylabel(\"A1\")\n",
    "plt.subplot(1,3,2)\n",
    "plt.scatter(df.q, df.A1,  color='blue')\n",
    "plt.ylim(0,1)\n",
    "plt.xlim(0,11)\n",
    "plt.xlabel(\"q\")\n",
    "plt.ylabel(\"A1\")\n",
    "plt.subplot(1,3,3)\n",
    "plt.scatter(df.r, df.A1,  color='blue')\n",
    "plt.ylim(0,1)\n",
    "plt.xlim(0,11)\n",
    "plt.xlabel(\"r\")\n",
    "plt.ylabel(\"A1\")\n",
    "plt.show()"
   ]
  },
  {
   "cell_type": "code",
   "execution_count": 18,
   "metadata": {
    "button": false,
    "colab": {
     "base_uri": "https://localhost:8080/",
     "height": 332
    },
    "executionInfo": {
     "elapsed": 74,
     "status": "ok",
     "timestamp": 1664387357650,
     "user": {
      "displayName": "Atieh Sohrabi",
      "userId": "02085666091885470785"
     },
     "user_tz": -210
    },
    "id": "iaPLmPlZSKUD",
    "new_sheet": false,
    "outputId": "93f0b4ec-86c2-4440-c200-08d5d9df4e49",
    "run_control": {
     "read_only": false
    }
   },
   "outputs": [
    {
     "data": {
      "text/html": [
       "<div>\n",
       "<style scoped>\n",
       "    .dataframe tbody tr th:only-of-type {\n",
       "        vertical-align: middle;\n",
       "    }\n",
       "\n",
       "    .dataframe tbody tr th {\n",
       "        vertical-align: top;\n",
       "    }\n",
       "\n",
       "    .dataframe thead th {\n",
       "        text-align: right;\n",
       "    }\n",
       "</style>\n",
       "<table border=\"1\" class=\"dataframe\">\n",
       "  <thead>\n",
       "    <tr style=\"text-align: right;\">\n",
       "      <th></th>\n",
       "      <th>p</th>\n",
       "      <th>q</th>\n",
       "      <th>r</th>\n",
       "      <th>A1</th>\n",
       "    </tr>\n",
       "  </thead>\n",
       "  <tbody>\n",
       "    <tr>\n",
       "      <th>0</th>\n",
       "      <td>3</td>\n",
       "      <td>2</td>\n",
       "      <td>2</td>\n",
       "      <td>0.697272</td>\n",
       "    </tr>\n",
       "    <tr>\n",
       "      <th>1</th>\n",
       "      <td>3</td>\n",
       "      <td>3</td>\n",
       "      <td>2</td>\n",
       "      <td>0.737086</td>\n",
       "    </tr>\n",
       "    <tr>\n",
       "      <th>2</th>\n",
       "      <td>3</td>\n",
       "      <td>4</td>\n",
       "      <td>2</td>\n",
       "      <td>0.731879</td>\n",
       "    </tr>\n",
       "    <tr>\n",
       "      <th>3</th>\n",
       "      <td>3</td>\n",
       "      <td>5</td>\n",
       "      <td>2</td>\n",
       "      <td>0.608153</td>\n",
       "    </tr>\n",
       "    <tr>\n",
       "      <th>4</th>\n",
       "      <td>3</td>\n",
       "      <td>6</td>\n",
       "      <td>2</td>\n",
       "      <td>0.492272</td>\n",
       "    </tr>\n",
       "    <tr>\n",
       "      <th>5</th>\n",
       "      <td>3</td>\n",
       "      <td>7</td>\n",
       "      <td>2</td>\n",
       "      <td>0.412174</td>\n",
       "    </tr>\n",
       "    <tr>\n",
       "      <th>6</th>\n",
       "      <td>3</td>\n",
       "      <td>8</td>\n",
       "      <td>2</td>\n",
       "      <td>0.273795</td>\n",
       "    </tr>\n",
       "    <tr>\n",
       "      <th>7</th>\n",
       "      <td>3</td>\n",
       "      <td>9</td>\n",
       "      <td>2</td>\n",
       "      <td>0.199852</td>\n",
       "    </tr>\n",
       "    <tr>\n",
       "      <th>8</th>\n",
       "      <td>3</td>\n",
       "      <td>2</td>\n",
       "      <td>3</td>\n",
       "      <td>0.739739</td>\n",
       "    </tr>\n",
       "  </tbody>\n",
       "</table>\n",
       "</div>"
      ],
      "text/plain": [
       "   p  q  r        A1\n",
       "0  3  2  2  0.697272\n",
       "1  3  3  2  0.737086\n",
       "2  3  4  2  0.731879\n",
       "3  3  5  2  0.608153\n",
       "4  3  6  2  0.492272\n",
       "5  3  7  2  0.412174\n",
       "6  3  8  2  0.273795\n",
       "7  3  9  2  0.199852\n",
       "8  3  2  3  0.739739"
      ]
     },
     "execution_count": 18,
     "metadata": {},
     "output_type": "execute_result"
    }
   ],
   "source": [
    "cdf = df[['p','q','r','A1']]\n",
    "cdf.head(9)"
   ]
  },
  {
   "cell_type": "code",
   "execution_count": 19,
   "metadata": {
    "button": false,
    "colab": {
     "base_uri": "https://localhost:8080/"
    },
    "executionInfo": {
     "elapsed": 66,
     "status": "ok",
     "timestamp": 1664387357650,
     "user": {
      "displayName": "Atieh Sohrabi",
      "userId": "02085666091885470785"
     },
     "user_tz": -210
    },
    "id": "XBkcevcoSKUI",
    "new_sheet": false,
    "outputId": "e3efd1f0-f169-4e86-a396-fc290fa2acf8",
    "run_control": {
     "read_only": false
    }
   },
   "outputs": [
    {
     "data": {
      "text/plain": [
       "448"
      ]
     },
     "execution_count": 19,
     "metadata": {},
     "output_type": "execute_result"
    }
   ],
   "source": [
    "msk = np.random.rand(len(df)) < 0.8\n",
    "train = cdf[msk]\n",
    "test = cdf[~msk]\n",
    "len(df)"
   ]
  },
  {
   "cell_type": "code",
   "execution_count": 21,
   "metadata": {
    "button": false,
    "colab": {
     "base_uri": "https://localhost:8080/"
    },
    "executionInfo": {
     "elapsed": 57,
     "status": "ok",
     "timestamp": 1664387357651,
     "user": {
      "displayName": "Atieh Sohrabi",
      "userId": "02085666091885470785"
     },
     "user_tz": -210
    },
    "id": "Pwtfwu6GSKUL",
    "new_sheet": false,
    "outputId": "91e30875-ae01-4f9a-e954-6172d5d80c57",
    "run_control": {
     "read_only": false
    }
   },
   "outputs": [
    {
     "name": "stdout",
     "output_type": "stream",
     "text": [
      "Coefficients:  [[-0.09963107 -0.05772782  0.05504388]]\n",
      "intercepts:  [1.09954266]\n"
     ]
    }
   ],
   "source": [
    "from sklearn import linear_model\n",
    "regr = linear_model.LinearRegression()\n",
    "x = np.asanyarray(train[['p','q','r']])\n",
    "y = np.asanyarray(train[['A1']])\n",
    "from sklearn.model_selection import train_test_split\n",
    "x_train,x_test,y_train,y_test = train_test_split(x,y,test_size=0.2,random_state=3)\n",
    "regr.fit (x_train, y_train)\n",
    "# The coefficients\n",
    "print ('Coefficients: ', regr.coef_)\n",
    "print ('intercepts: ', regr.intercept_)"
   ]
  },
  {
   "cell_type": "code",
   "execution_count": 288,
   "metadata": {
    "colab": {
     "base_uri": "https://localhost:8080/",
     "height": 355
    },
    "executionInfo": {
     "elapsed": 52,
     "status": "ok",
     "timestamp": 1664387357651,
     "user": {
      "displayName": "Atieh Sohrabi",
      "userId": "02085666091885470785"
     },
     "user_tz": -210
    },
    "id": "OtFQ8ot5Ph0s",
    "outputId": "950ce3d1-8d9a-48ef-bdc8-c30ee6b6186b"
   },
   "outputs": [
    {
     "data": {
      "text/plain": [
       "[<matplotlib.lines.Line2D at 0x7fc828a8c450>]"
      ]
     },
     "execution_count": 288,
     "metadata": {},
     "output_type": "execute_result"
    },
    {
     "data": {
      "image/png": "[encoded data removed]",
      "text/plain": [
       "<Figure size 1080x360 with 3 Axes>"
      ]
     },
     "metadata": {
      "needs_background": "light"
     },
     "output_type": "display_data"
    }
   ],
   "source": [
    "plt.figure(figsize=(15,5))\n",
    "plt.subplot(1,3,1)\n",
    "plt.scatter(train.p, train.A1,  color='blue')\n",
    "plt.xlabel(\"p\")\n",
    "plt.ylabel(\"A1\")\n",
    "XX = np.arange(0.0, 10.0, 0.1)\n",
    "yy = regr.intercept_[0]+ regr.coef_[0][0]*XX + regr.coef_[0][1]*XX + regr.coef_[0][2]*XX\n",
    "plt.plot(XX, yy, '-r' )\n",
    "plt.ylim(0,1)\n",
    "plt.xlim(0,11)\n",
    "\n",
    "plt.subplot(1,3,2)\n",
    "plt.scatter(train.q, train.A1,  color='green')\n",
    "plt.xlabel(\"q\")\n",
    "plt.ylabel(\"A1\")\n",
    "XX = np.arange(0.0, 10.0, 0.1)\n",
    "yy = regr.intercept_[0]+ regr.coef_[0][0]*XX + regr.coef_[0][1]*XX  + regr.coef_[0][2]*XX\n",
    "plt.ylim(0,1)\n",
    "plt.xlim(0,11)\n",
    "plt.plot(XX, yy, '-r' )\n",
    "\n",
    "plt.subplot(1,3,3)\n",
    "plt.scatter(train.r, train.A1,  color='green')\n",
    "plt.xlabel(\"r\")\n",
    "plt.ylabel(\"A1\")\n",
    "XX = np.arange(0.0, 10.0, 0.1)\n",
    "yy = regr.intercept_[0]+ regr.coef_[0][0]*XX + regr.coef_[0][1]*XX  + regr.coef_[0][2]*XX\n",
    "plt.ylim(0,1)\n",
    "plt.xlim(0,11)\n",
    "plt.plot(XX, yy, '-r' )\n"
   ]
  },
  {
   "cell_type": "code",
   "execution_count": 22,
   "metadata": {
    "button": false,
    "colab": {
     "base_uri": "https://localhost:8080/"
    },
    "executionInfo": {
     "elapsed": 48,
     "status": "ok",
     "timestamp": 1664387357652,
     "user": {
      "displayName": "Atieh Sohrabi",
      "userId": "02085666091885470785"
     },
     "user_tz": -210
    },
    "id": "CvfNMj2MSKUN",
    "new_sheet": false,
    "outputId": "2b3b3c2d-4c74-4fc2-c811-77108d8d8850",
    "run_control": {
     "read_only": false
    }
   },
   "outputs": [
    {
     "name": "stdout",
     "output_type": "stream",
     "text": [
      "Variance score: 0.89\n"
     ]
    }
   ],
   "source": [
    "y_hat= regr.predict(x_test)\n",
    "x = np.asanyarray(x_test)\n",
    "y = np.asanyarray(y_test)\n",
    "\n",
    "from sklearn.metrics import r2_score \n",
    "\n",
    "print('Variance score: %.2f' % r2_score(y, y_hat))"
   ]
  },
  {
   "cell_type": "code",
   "execution_count": 23,
   "metadata": {
    "colab": {
     "base_uri": "https://localhost:8080/",
     "height": 367
    },
    "executionInfo": {
     "elapsed": 1763,
     "status": "ok",
     "timestamp": 1664387359370,
     "user": {
      "displayName": "Atieh Sohrabi",
      "userId": "02085666091885470785"
     },
     "user_tz": -210
    },
    "id": "M_HCL530EtWu",
    "outputId": "eb7d4428-b9fd-46a0-c1ac-5bd21ae340cb"
   },
   "outputs": [
    {
     "data": {
      "text/plain": [
       "<matplotlib.legend.Legend at 0x22b83ffbc40>"
      ]
     },
     "execution_count": 23,
     "metadata": {},
     "output_type": "execute_result"
    },
    {
     "data": {
      "image/png": "[encoded data removed]",
      "text/plain": [
       "<Figure size 1080x360 with 2 Axes>"
      ]
     },
     "metadata": {
      "needs_background": "light"
     },
     "output_type": "display_data"
    }
   ],
   "source": [
    "plt.figure(figsize=(15,5))\n",
    "plt.subplot(1,2,1)\n",
    "y_pred_train = regr.intercept_[0]+ regr.coef_[0][0]*x_train[:,0] + regr.coef_[0][1]*x_train[:,1] + regr.coef_[0][2]*x_train[:,2]\n",
    "plt.scatter(  y_train , y_pred_train, color='blue' , label='A1')\n",
    "plt.xlabel(\"Actual data\")\n",
    "plt.ylabel(\"Predicted data\")\n",
    "XX = np.arange(0.0, 10.0, 0.1)\n",
    "#yy = regr.intercept_[0]+ regr.coef_[0][0]*XX + regr.coef_[0][1]*XX\n",
    "yy = XX\n",
    "plt.plot(XX, yy, '-r' )\n",
    "plt.ylim(0,1)\n",
    "plt.xlim(0,1)\n",
    "plt.title('Training set : 80%')\n",
    "plt.legend()\n",
    "\n",
    "plt.subplot(1,2,2)\n",
    "plt.xlabel(\"Actual data\")\n",
    "\n",
    "yy = XX\n",
    "plt.plot(XX, yy, '-r' )\n",
    "y_pred_test = regr.intercept_[0]+ regr.coef_[0][0]*x_test[:,0] + regr.coef_[0][1]*x_test[:,1] + regr.coef_[0][2]*x_test[:,2]\n",
    "plt.ylim(0,1)\n",
    "plt.xlim(0,1)\n",
    "plt.scatter( y_test ,y_pred_test,  color='green', label='A1')\n",
    "plt.title('Testing set : 20%')\n",
    "plt.legend()"
   ]
  },
  {
   "cell_type": "code",
   "execution_count": 290,
   "metadata": {
    "executionInfo": {
     "elapsed": 45,
     "status": "ok",
     "timestamp": 1664387359373,
     "user": {
      "displayName": "Atieh Sohrabi",
      "userId": "02085666091885470785"
     },
     "user_tz": -210
    },
    "id": "cXxmZgX2Lp-c"
   },
   "outputs": [],
   "source": []
  },
  {
   "cell_type": "code",
   "execution_count": 24,
   "metadata": {
    "colab": {
     "base_uri": "https://localhost:8080/"
    },
    "executionInfo": {
     "elapsed": 44,
     "status": "ok",
     "timestamp": 1664387359374,
     "user": {
      "displayName": "Atieh Sohrabi",
      "userId": "02085666091885470785"
     },
     "user_tz": -210
    },
    "id": "dJXgtDKSv7e9",
    "outputId": "303b4a8c-d9c8-4b74-ad4d-2cf463dfa2af"
   },
   "outputs": [
    {
     "name": "stdout",
     "output_type": "stream",
     "text": [
      "[[0.30143864]\n",
      " [0.91389314]\n",
      " [0.1325741 ]\n",
      " [0.1123381 ]\n",
      " [0.65405672]\n",
      " [0.26590863]\n",
      " [0.2762258 ]\n",
      " [0.74422653]\n",
      " [0.12180698]\n",
      " [0.14046812]\n",
      " [0.13212667]\n",
      " [0.53648886]\n",
      " [0.1816046 ]\n",
      " [0.19985224]\n",
      " [0.89551601]\n",
      " [0.64457814]\n",
      " [0.64103574]\n",
      " [0.66628248]\n",
      " [0.05496343]\n",
      " [0.41080923]\n",
      " [0.61684441]\n",
      " [0.76047449]\n",
      " [0.48512669]\n",
      " [0.06017024]\n",
      " [0.77745151]\n",
      " [0.21353198]\n",
      " [0.66272661]\n",
      " [0.86791186]\n",
      " [0.22442291]\n",
      " [0.89096493]\n",
      " [0.28218343]\n",
      " [0.32407086]\n",
      " [0.11762349]\n",
      " [0.48416821]\n",
      " [0.14740395]\n",
      " [0.70934659]\n",
      " [0.11394154]\n",
      " [0.76142815]\n",
      " [0.2031401 ]\n",
      " [0.35414624]\n",
      " [0.41878072]\n",
      " [0.15671503]\n",
      " [0.22225658]\n",
      " [0.89497045]\n",
      " [0.14104158]\n",
      " [0.77679045]\n",
      " [0.24695755]\n",
      " [0.07790018]\n",
      " [0.06299389]\n",
      " [0.06557942]\n",
      " [0.21834878]\n",
      " [0.37600588]\n",
      " [0.02467753]\n",
      " [0.1311968 ]\n",
      " [0.1976884 ]\n",
      " [0.87176801]\n",
      " [0.27379516]\n",
      " [0.26710289]\n",
      " [0.7611363 ]\n",
      " [0.19293112]\n",
      " [0.16140913]\n",
      " [0.71595719]\n",
      " [0.60085665]\n",
      " [0.04754215]\n",
      " [0.73973926]\n",
      " [0.10327465]\n",
      " [0.00930145]\n",
      " [0.06021525]\n",
      " [0.11138321]\n",
      " [0.42355252]\n",
      " [0.04022439]\n",
      " [0.82270214]\n",
      " [0.41217434]\n",
      " [0.80699284]\n",
      " [0.93726191]\n",
      " [0.72346462]\n",
      " [0.57138926]\n",
      " [0.78639863]\n",
      " [0.10371246]\n",
      " [0.88922397]\n",
      " [0.1630154 ]\n",
      " [0.09005255]\n",
      " [0.36159229]\n",
      " [0.0222574 ]\n",
      " [0.21792775]\n",
      " [0.3131149 ]\n",
      " [0.50032298]\n",
      " [0.02304928]\n",
      " [0.01716549]\n",
      " [0.82764168]\n",
      " [0.03663585]\n",
      " [0.11181897]\n",
      " [0.42816703]\n",
      " [0.0972302 ]\n",
      " [0.68560331]\n",
      " [0.62009302]\n",
      " [0.81152725]\n",
      " [0.50981882]\n",
      " [0.2498986 ]\n",
      " [0.06238564]\n",
      " [0.20801233]\n",
      " [0.18603385]\n",
      " [0.04313493]\n",
      " [0.69261903]\n",
      " [0.75990392]\n",
      " [0.3404231 ]\n",
      " [0.04699148]\n",
      " [0.05693124]\n",
      " [0.758808  ]\n",
      " [0.02220569]\n",
      " [0.19050421]\n",
      " [0.48594223]\n",
      " [0.94013316]\n",
      " [0.12553088]\n",
      " [0.86614039]\n",
      " [0.46813203]\n",
      " [0.09796059]\n",
      " [0.2107188 ]\n",
      " [0.62209667]\n",
      " [0.09003691]\n",
      " [0.02733199]\n",
      " [0.41025733]\n",
      " [0.09950493]\n",
      " [0.84057763]\n",
      " [0.74897929]\n",
      " [0.07680694]\n",
      " [0.10427635]\n",
      " [0.64544906]\n",
      " [0.83141442]\n",
      " [0.26888825]\n",
      " [0.57194011]\n",
      " [0.46342011]\n",
      " [0.85284064]\n",
      " [0.83629579]\n",
      " [0.28718828]\n",
      " [0.40308777]\n",
      " [0.71562206]\n",
      " [0.18592754]\n",
      " [0.32990765]\n",
      " [0.75057889]\n",
      " [0.80432774]\n",
      " [0.07933272]\n",
      " [0.59186221]\n",
      " [0.91764047]\n",
      " [0.17278536]\n",
      " [0.85783383]\n",
      " [0.80780128]\n",
      " [0.11163214]\n",
      " [0.65253468]\n",
      " [0.49475377]\n",
      " [0.50144294]\n",
      " [0.08075288]\n",
      " [0.31068938]\n",
      " [0.7895009 ]\n",
      " [0.85198575]\n",
      " [0.87070322]\n",
      " [0.02335874]\n",
      " [0.89322422]\n",
      " [0.04608184]\n",
      " [0.27663557]\n",
      " [0.31553358]\n",
      " [0.09346913]\n",
      " [0.58752208]\n",
      " [0.44510482]\n",
      " [0.13081598]\n",
      " [0.660484  ]\n",
      " [0.63629821]\n",
      " [0.44899673]\n",
      " [0.12575652]\n",
      " [0.31869215]\n",
      " [0.64185617]\n",
      " [0.01048673]\n",
      " [0.23404388]\n",
      " [0.20164078]\n",
      " [0.33939962]\n",
      " [0.87410002]\n",
      " [0.06948556]\n",
      " [0.28280597]\n",
      " [0.71729551]\n",
      " [0.3215205 ]\n",
      " [0.02429946]\n",
      " [0.97542568]\n",
      " [0.1728338 ]\n",
      " [0.19942672]\n",
      " [0.27790295]\n",
      " [0.73702972]\n",
      " [0.8482951 ]\n",
      " [0.29993138]\n",
      " [0.07894762]\n",
      " [0.77056202]\n",
      " [0.8802533 ]\n",
      " [0.05897657]\n",
      " [0.83822123]\n",
      " [0.83354708]\n",
      " [0.56180092]\n",
      " [0.87392939]\n",
      " [0.14670226]\n",
      " [0.63085244]\n",
      " [0.05628662]\n",
      " [0.1835762 ]\n",
      " [0.12353221]\n",
      " [0.41447017]\n",
      " [0.24434531]\n",
      " [0.89397143]\n",
      " [0.40787638]\n",
      " [0.16836065]\n",
      " [0.21136922]\n",
      " [0.31793522]\n",
      " [0.45074842]\n",
      " [0.88664044]\n",
      " [0.89649405]\n",
      " [0.60322909]\n",
      " [0.20488995]\n",
      " [0.11733573]\n",
      " [0.64425464]\n",
      " [0.03360879]\n",
      " [0.27370879]\n",
      " [0.03735732]\n",
      " [0.33634777]\n",
      " [0.05627833]\n",
      " [0.24825708]\n",
      " [0.06722361]\n",
      " [0.2112011 ]\n",
      " [0.92825426]\n",
      " [0.80732885]\n",
      " [0.02940442]\n",
      " [0.30011418]\n",
      " [0.32822217]\n",
      " [0.85752015]\n",
      " [0.54208807]\n",
      " [0.4922719 ]\n",
      " [0.29522484]\n",
      " [0.15729014]\n",
      " [0.45130039]\n",
      " [0.21432787]\n",
      " [0.52593848]\n",
      " [0.69556781]\n",
      " [0.0734133 ]\n",
      " [0.15813536]\n",
      " [0.15298842]\n",
      " [0.17760064]\n",
      " [0.23817695]\n",
      " [0.81249911]\n",
      " [0.73187939]\n",
      " [0.25116737]\n",
      " [0.01450655]\n",
      " [0.91553548]\n",
      " [0.45179664]\n",
      " [0.12960004]\n",
      " [0.65939668]\n",
      " [0.31849802]\n",
      " [0.49037459]\n",
      " [0.06964869]\n",
      " [0.69727154]\n",
      " [0.76193488]\n",
      " [0.74513415]\n",
      " [0.06759184]\n",
      " [0.34056643]\n",
      " [0.85134583]\n",
      " [0.32191586]\n",
      " [0.75763127]\n",
      " [0.85687281]\n",
      " [0.38926819]\n",
      " [0.80602644]\n",
      " [0.03567836]\n",
      " [0.07947961]\n",
      " [0.10610546]\n",
      " [0.31600442]\n",
      " [0.59436967]\n",
      " [0.80846824]\n",
      " [0.86082344]\n",
      " [0.13078295]\n",
      " [0.12759844]\n",
      " [0.00640954]\n",
      " [0.23230025]\n",
      " [0.12463156]\n",
      " [0.84267906]\n",
      " [0.81806535]\n",
      " [0.42641142]\n",
      " [0.47020351]\n",
      " [0.60212758]\n",
      " [0.82467203]\n",
      " [0.37652435]\n",
      " [0.55583889]\n",
      " [0.17834731]\n",
      " [0.20752291]\n",
      " [0.57926136]\n",
      " [0.18030556]\n",
      " [0.10329684]\n",
      " [0.06595438]]\n"
     ]
    }
   ],
   "source": [
    "print(y_train)\n"
   ]
  },
  {
   "cell_type": "code",
   "execution_count": 292,
   "metadata": {
    "colab": {
     "base_uri": "https://localhost:8080/"
    },
    "executionInfo": {
     "elapsed": 37,
     "status": "ok",
     "timestamp": 1664387359375,
     "user": {
      "displayName": "Atieh Sohrabi",
      "userId": "02085666091885470785"
     },
     "user_tz": -210
    },
    "id": "i-DDypKIwDLd",
    "outputId": "a53ed6e7-d5c7-4ce3-b0c9-3b847c2fefee"
   },
   "outputs": [
    {
     "name": "stdout",
     "output_type": "stream",
     "text": [
      "[[0.07553908]\n",
      " [0.0734133 ]\n",
      " [0.09157733]\n",
      " [0.84616609]\n",
      " [0.57926136]\n",
      " [0.21211499]\n",
      " [0.23230025]\n",
      " [0.71595719]\n",
      " [0.04887259]\n",
      " [0.10329684]\n",
      " [0.15729014]\n",
      " [0.80432774]\n",
      " [0.19293112]\n",
      " [0.65053467]\n",
      " [0.87070322]\n",
      " [0.52593848]\n",
      " [0.87392939]\n",
      " [0.86791186]\n",
      " [0.23115816]\n",
      " [0.03735732]\n",
      " [0.79435114]\n",
      " [0.02304928]\n",
      " [0.1473023 ]\n",
      " [0.33939962]\n",
      " [0.64425464]\n",
      " [0.05628662]\n",
      " [0.03409135]\n",
      " [0.37652435]\n",
      " [0.86614039]\n",
      " [0.84057763]\n",
      " [0.40380162]\n",
      " [0.24825708]\n",
      " [0.0354937 ]\n",
      " [0.86346857]\n",
      " [0.42816703]\n",
      " [0.91389314]\n",
      " [0.38271423]\n",
      " [0.04061072]\n",
      " [0.89499978]\n",
      " [0.48997444]\n",
      " [0.62009302]\n",
      " [0.32822217]\n",
      " [0.85783383]\n",
      " [0.04754215]\n",
      " [0.10678209]\n",
      " [0.31869215]\n",
      " [0.09346913]\n",
      " [0.90554026]\n",
      " [0.74216882]\n",
      " [0.44899673]\n",
      " [0.12960004]\n",
      " [0.24749326]\n",
      " [0.88288215]\n",
      " [0.00640954]\n",
      " [0.08832819]\n",
      " [0.0222574 ]\n",
      " [0.14046812]\n",
      " [0.36046411]\n",
      " [0.91938679]\n",
      " [0.01716549]\n",
      " [0.06836966]\n",
      " [0.06021525]\n",
      " [0.81204501]\n",
      " [0.12523231]\n",
      " [0.02940442]\n",
      " [0.66908672]\n",
      " [0.62884984]\n",
      " [0.13078295]\n",
      " [0.40308777]\n",
      " [0.93506034]\n",
      " [0.46505088]\n",
      " [0.8482951 ]\n",
      " [0.20488995]\n",
      " [0.07933272]\n",
      " [0.55512979]]\n"
     ]
    }
   ],
   "source": [
    "print(y_test)"
   ]
  },
  {
   "cell_type": "code",
   "execution_count": 25,
   "metadata": {
    "colab": {
     "base_uri": "https://localhost:8080/"
    },
    "executionInfo": {
     "elapsed": 27,
     "status": "ok",
     "timestamp": 1664387359375,
     "user": {
      "displayName": "Atieh Sohrabi",
      "userId": "02085666091885470785"
     },
     "user_tz": -210
    },
    "id": "2oCWI5JDwF1X",
    "outputId": "207dd0c0-f919-4a19-b69d-316d0b20d0be"
   },
   "outputs": [
    {
     "name": "stdout",
     "output_type": "stream",
     "text": [
      "[ 0.47787985 -0.25118677  0.04770642  0.90000144  0.86855489  0.31783702\n",
      "  0.26279314  0.41746808 -0.02295942  0.14733749  0.28370652  0.55900239\n",
      "  0.40453006  0.57751092  0.82665165  0.47003063  0.80573827  1.01277315\n",
      "  0.27593377  0.49610929  0.6664062   0.24985512 -0.00733746  0.61424888\n",
      "  0.33097765  0.35725893  0.08203953  0.10543425  1.0100892   0.50127457\n",
      "  0.45668738  0.7061072   0.30489899  0.57991578  0.53801253  0.58259972\n",
      "  0.45937132  0.29175836  0.76115108  0.30469638  0.72681797  0.72702059\n",
      "  0.79768643  0.44911725  0.5933355   0.11589094  0.45957394  0.91582603\n",
      "  0.63523874  0.75578319 -0.19345895  0.17898665  0.91314208 -0.02027548\n",
      "  0.33902949  0.31803963  0.39675731  0.22866264  0.85541426  0.29712625\n",
      "  0.01894382  0.0347684   0.75069439  0.26031181  0.50147718  0.90536933\n",
      "  0.87123884 -0.13304718  0.67197671  0.70073931 -0.190775    1.01545709\n",
      "  0.55652106]\n"
     ]
    }
   ],
   "source": [
    "print(y_pred_test)"
   ]
  },
  {
   "cell_type": "code",
   "execution_count": 294,
   "metadata": {
    "colab": {
     "base_uri": "https://localhost:8080/"
    },
    "executionInfo": {
     "elapsed": 22,
     "status": "ok",
     "timestamp": 1664387359377,
     "user": {
      "displayName": "Atieh Sohrabi",
      "userId": "02085666091885470785"
     },
     "user_tz": -210
    },
    "id": "KEKgvqr3v_o9",
    "outputId": "d1d58f58-7369-4837-a0c7-1c7c3cdf9381"
   },
   "outputs": [
    {
     "name": "stdout",
     "output_type": "stream",
     "text": [
      "[ 0.26384947  0.31478728  0.61060317  0.35059053  0.53181581  0.94315095\n",
      "  0.46433039  0.00383682  0.24581091  0.50340396  0.30292304  0.39825801\n",
      "  0.85164861  0.90641906  0.76192566  0.81996643  0.27983477  0.08972714\n",
      "  0.56144474  0.95025391  0.35208147  0.29020806  0.54545943  0.36245476\n",
      "  0.10244212  0.72519377  0.51199787  0.40152834  0.56293569  0.23216729\n",
      "  0.21469104  0.51760989  0.71574912  0.41517196  0.19160277  0.68462925\n",
      "  0.31329633  0.65827065  0.17085619  0.36899542  0.49125129  0.85875157\n",
      "  0.392646    0.67752629  0.11991837  0.13356199  0.01364781  0.21852367\n",
      "  0.10010043  0.4086313   0.38498073  0.45722743  0.46049775  0.65294707\n",
      "  0.45629879  0.35386085  0.79687817  0.20197606  0.42554525  0.25198523\n",
      "  0.52798318  0.10571245  0.85548125  0.03168637  0.05626558  0.08589451\n",
      "  0.51853853  0.49452162  0.28693774  0.71247879  0.51433956  0.15337993\n",
      "  0.81108409  0.61948551  0.57565066  0.67425596  0.1948731   1.05212953\n",
      "  0.24637322  0.18833244  0.50667429  0.15103825  0.41993323  0.12972936\n",
      "  0.36572509  0.20758807 -0.04383066  0.93604798  0.33404291  0.27656445\n",
      "  0.2940407   0.26562885  0.3094637   0.95735687  0.310026    0.46667208\n",
      "  0.21291166  0.2831051   0.02131308  0.04205966  0.07225089  1.00829468\n",
      "  0.66154098  0.44358381  0.2671198   0.32693995  0.66332036  0.16524417\n",
      "  0.54872976  0.68789958  0.95352424  0.25852589  0.66005003  0.51050693\n",
      " -0.06691893  0.26889918  0.62275584  0.13683232  0.20907902  0.65116769\n",
      "  0.30058136  0.5072366   0.55434178  0.4539571  -0.05981596  0.35151917\n",
      "  0.48741866  0.53125351  0.5416268   0.60733284  0.50489491  0.15665026\n",
      "  0.76902862  0.63369144  0.05477464  0.03878933  0.44919582  0.3553518\n",
      "  0.81435442  0.73229673  0.56527737  0.41339258  0.38881336  0.89548346\n",
      "  0.47377504  0.67042332  0.69500254  0.20431775  1.01156501  0.15992059\n",
      "  0.31151695  0.11225311  0.50106228  0.88511017  0.61238255  0.64023209\n",
      "  0.18122948  0.64406473  0.1604829   0.37844007  0.01748044  0.27600214\n",
      "  0.21796136  0.22506433  0.5152682   0.33787555  0.59639724  0.63696177\n",
      "  0.35862213  0.56620601  0.5685477  -0.13533299  0.46760072  0.45012446\n",
      " -0.18300048  0.9606272  -0.02308408  0.07935385  0.60527959  0.23927025\n",
      "  0.06841826  0.6298588   0.80781376  0.2108584  -0.08822782  0.31712897\n",
      "  0.61621518 -0.19337377 -0.13206267  0.16702355  0.7393997   0.77940191\n",
      "  0.40628961  0.77613158  0.91295972  0.8993161   0.69173221  0.25291387\n",
      "  0.3817104   0.12645903  0.31805761  0.11608574  0.35769349  0.18449981\n",
      "  0.76341661  0.60200926  0.35713118  0.25525556  0.59966757  0.41190163\n",
      "  0.55910305  0.99408876  0.79360784  0.33077259  0.6138735   0.50816524\n",
      "  0.32366962  0.22833466  0.68135892  0.07552122  0.17739684 -0.07729222\n",
      "  0.25674651  0.5421891   0.28637543  0.36189246  0.83744269  0.58219132\n",
      " -0.24104125  0.42227492  0.13739463  1.0592325   0.5525624   0.68846188\n",
      "  0.01421012  0.24254058  0.14776792  0.64789736  0.50872755  0.37460744\n",
      "  0.52415054 -0.23393829  0.26235852  0.60677054  0.37516974 -0.0367277\n",
      "  0.58602395  0.74650266  0.36096382  0.15814121  0.58929428  0.34824884\n",
      " -0.11785674  0.46610977  0.42937788  0.61714383  0.46106006  0.80454343\n",
      "  0.69883518  0.55107145  0.44685414  0.58985659  0.50013363 -0.14243596\n",
      "  0.47321273 -0.00887815  0.71809081  0.53835647  0.79744047  0.11935607\n",
      "  0.07168858  0.42610755  0.54929207  0.70920847  0.74267003 -0.19010344\n",
      "  0.40479867  0.29347839  0.05804497  0.40245698  0.38554303 -0.1249597\n",
      "  0.667153    0.72136114  0.50162458  0.4699424   0.68079662  0.65443802\n",
      "  0.02075077  0.221794    0.55966536  0.4430215   0.17412651  0.74594035\n",
      "  0.06514793  0.26946148  0.07879155]\n"
     ]
    }
   ],
   "source": [
    "\n",
    "print(y_pred_train)"
   ]
  }
 ],
 "metadata": {
  "colab": {
   "authorship_tag": "ABX9TyOsEKQnYKy1NMsqPhXODwKa",
   "provenance": []
  },
  "kernelspec": {
   "display_name": "Python 3",
   "language": "python",
   "name": "python3"
  },
  "language_info": {
   "codemirror_mode": {
    "name": "ipython",
    "version": 3
   },
   "file_extension": ".py",
   "mimetype": "text/x-python",
   "name": "python",
   "nbconvert_exporter": "python",
   "pygments_lexer": "ipython3",
   "version": "3.8.5"
  }
 },
 "nbformat": 4,
 "nbformat_minor": 1
}
